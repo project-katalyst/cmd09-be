{
 "cells": [
  {
   "cell_type": "code",
   "execution_count": 16,
   "id": "fe224256",
   "metadata": {},
   "outputs": [],
   "source": [
    "from batching import get_selected_links, get_level_tags, get_level_one_tags, batch_cycle, get_batch_responses, check_batch_status, batch_get_relevant_content\n",
    "import pandas as pd\n",
    "from nslookup import Nslookup\n",
    "import re\n",
    "from googlesearch import search\n",
    "import json\n"
   ]
  },
  {
   "cell_type": "code",
   "execution_count": 17,
   "id": "1f9167cc",
   "metadata": {},
   "outputs": [],
   "source": [
    "un_tags = pd.read_csv('./dados/tags/unspsc+.csv')\n",
    "buyers = pd.read_csv('./dados/buyers/companies_with_summaries.csv')"
   ]
  },
  {
   "cell_type": "code",
   "execution_count": 18,
   "id": "8dbd9919",
   "metadata": {},
   "outputs": [],
   "source": [
    "buyers = buyers[~buyers['resumo_final'].isna()]\n",
    "buyers = buyers.drop_duplicates(subset='ticker')"
   ]
  },
  {
   "cell_type": "code",
   "execution_count": 19,
   "id": "54b6acab",
   "metadata": {},
   "outputs": [
    {
     "name": "stdout",
     "output_type": "stream",
     "text": [
      "[29/08/25 18:51:43] Batch Id: batch_68b0e47a1f188190af0b2bd1c8b01e5e,  Status: completed, Elapsed time 487917:51:43\t\n"
     ]
    }
   ],
   "source": [
    "# level1_tags_response = get_level_one_tags(buyers, un_tags, id_column=2)\n",
    "level1_tags_response = get_batch_responses(check_batch_status('batch_68b0e47a1f188190af0b2bd1c8b01e5e'))"
   ]
  },
  {
   "cell_type": "code",
   "execution_count": 20,
   "id": "f342eaea",
   "metadata": {},
   "outputs": [],
   "source": [
    "t = pd.DataFrame(level1_tags_response)\n",
    "t['tag1'] = t['response'].apply(lambda x: json.loads(x['body']['choices'][0]['message']['content'])['tags'])"
   ]
  },
  {
   "cell_type": "code",
   "execution_count": 21,
   "id": "ef430997",
   "metadata": {},
   "outputs": [],
   "source": [
    "buyers = buyers.merge(t[['custom_id', 'tag1']], left_on='ticker', right_on='custom_id', how='left').drop(columns=['custom_id'])"
   ]
  },
  {
   "cell_type": "code",
   "execution_count": 22,
   "id": "e3e76cee",
   "metadata": {},
   "outputs": [],
   "source": [
    "all_tags = {}\n",
    "for resp in t[['custom_id','tag1']].itertuples(index=False):\n",
    "    company_id = resp.custom_id\n",
    "    tag1_values = resp.tag1\n",
    "    all_tags[company_id] = {1: tag1_values}\n"
   ]
  },
  {
   "cell_type": "code",
   "execution_count": 8,
   "id": "df3af32a",
   "metadata": {},
   "outputs": [
    {
     "name": "stderr",
     "output_type": "stream",
     "text": [
      "100%|█████████████████████████████████████████████████████████████████████████████████████████████████████████████████████████████████████████████| 297/297 [00:06<00:00, 45.35it/s]\n"
     ]
    },
    {
     "name": "stdout",
     "output_type": "stream",
     "text": [
      "[29/08/25 07:37:28] Batch Id: batch_68b1821a77108190aed279f0e5cbf424,  Status: completed, Elapsed time 00:03:25\t\t\t\n"
     ]
    }
   ],
   "source": [
    "level2_tags_response = get_level_tags(buyers, un_tags, 2, all_tags)"
   ]
  },
  {
   "cell_type": "code",
   "execution_count": 10,
   "id": "25fc38d5",
   "metadata": {},
   "outputs": [],
   "source": [
    "t2 = pd.DataFrame(level2_tags_response)\n",
    "t2['tag2'] = t2['response'].apply(lambda x: json.loads(x['body']['choices'][0]['message']['content'])['tags'])"
   ]
  },
  {
   "cell_type": "code",
   "execution_count": 12,
   "id": "669e7657",
   "metadata": {},
   "outputs": [],
   "source": [
    "buyers = buyers.merge(t2[['custom_id', 'tag2']], left_on='ticker', right_on='custom_id', how='left').drop(columns=['custom_id'])"
   ]
  },
  {
   "cell_type": "code",
   "execution_count": 16,
   "id": "3489515c",
   "metadata": {},
   "outputs": [],
   "source": [
    "for resp in buyers[['ticker','tag1', 'tag2']].itertuples(index=False):\n",
    "    company_id = resp.ticker\n",
    "    tag1_values = resp.tag1\n",
    "    tag2_values = resp.tag2\n",
    "    all_tags[company_id] = {1: tag1_values, 2: tag2_values}"
   ]
  },
  {
   "cell_type": "code",
   "execution_count": 19,
   "id": "acda23e6",
   "metadata": {},
   "outputs": [
    {
     "name": "stderr",
     "output_type": "stream",
     "text": [
      "100%|█████████████████████████████████████████████████████████████████████████████████████████████████████████████████████████████████████████████| 297/297 [00:08<00:00, 33.54it/s]\n"
     ]
    },
    {
     "name": "stdout",
     "output_type": "stream",
     "text": [
      "[29/08/25 07:51:48] Batch Id: batch_68b184fc4a8c8190bf8ab8688ea1b14a,  Status: completed, Elapsed time 00:05:28\t\t\t\n"
     ]
    }
   ],
   "source": [
    "level3_tags_response = get_level_tags(buyers, un_tags, 3, all_tags)"
   ]
  },
  {
   "cell_type": "code",
   "execution_count": 20,
   "id": "111c8d5f",
   "metadata": {},
   "outputs": [],
   "source": [
    "t3 = pd.DataFrame(level3_tags_response)\n",
    "t3['tag3'] = t3['response'].apply(lambda x: json.loads(x['body']['choices'][0]['message']['content'])['tags'])"
   ]
  },
  {
   "cell_type": "code",
   "execution_count": 21,
   "id": "0eb2857d",
   "metadata": {},
   "outputs": [],
   "source": [
    "buyers = buyers.merge(t3[['custom_id', 'tag3']], left_on='ticker', right_on='custom_id', how='left').drop(columns=['custom_id'])"
   ]
  },
  {
   "cell_type": "code",
   "execution_count": 23,
   "id": "7e193d96",
   "metadata": {},
   "outputs": [],
   "source": [
    "for resp in buyers[['ticker','tag1', 'tag2', 'tag3']].itertuples(index=False):\n",
    "    company_id = resp.ticker\n",
    "    tag1_values = resp.tag1\n",
    "    tag2_values = resp.tag2\n",
    "    tag3_values = resp.tag3\n",
    "    all_tags[company_id] = {1: tag1_values, 2: tag2_values, 3: tag3_values}"
   ]
  },
  {
   "cell_type": "code",
   "execution_count": 24,
   "id": "d1c37fdf",
   "metadata": {},
   "outputs": [
    {
     "name": "stderr",
     "output_type": "stream",
     "text": [
      "100%|█████████████████████████████████████████████████████████████████████████████████████████████████████████████████████████████████████████████| 297/297 [00:13<00:00, 22.66it/s]\n"
     ]
    },
    {
     "name": "stdout",
     "output_type": "stream",
     "text": [
      "[29/08/25 08:32:52] Batch Id: batch_68b186dbb6188190a0400b3b16a08f11,  Status: completed, Elapsed time 00:38:32\t\t\t\n"
     ]
    }
   ],
   "source": [
    "level4_tags_response = get_level_tags(buyers, un_tags, 4, all_tags)"
   ]
  },
  {
   "cell_type": "code",
   "execution_count": 25,
   "id": "d9057e5b",
   "metadata": {},
   "outputs": [],
   "source": [
    "t4 = pd.DataFrame(level4_tags_response)\n",
    "t4['tag4'] = t4['response'].apply(lambda x: json.loads(x['body']['choices'][0]['message']['content'])['tags'])"
   ]
  },
  {
   "cell_type": "code",
   "execution_count": 26,
   "id": "634e3179",
   "metadata": {},
   "outputs": [],
   "source": [
    "buyers = buyers.merge(t4[['custom_id', 'tag4']], left_on='ticker', right_on='custom_id', how='left').drop(columns=['custom_id'])"
   ]
  },
  {
   "cell_type": "code",
   "execution_count": 30,
   "id": "42ca022d",
   "metadata": {},
   "outputs": [],
   "source": [
    "for resp in buyers[['ticker','tag1', 'tag2', 'tag3', 'tag4']].itertuples(index=False):\n",
    "    company_id = resp.ticker\n",
    "    tag1_values = resp.tag1\n",
    "    tag2_values = resp.tag2\n",
    "    tag3_values = resp.tag3\n",
    "    tag4_values = resp.tag4\n",
    "    all_tags[company_id] = {1: tag1_values, 2: tag2_values, 3: tag3_values, 4: tag4_values}"
   ]
  },
  {
   "cell_type": "code",
   "execution_count": 31,
   "id": "fea369ee",
   "metadata": {},
   "outputs": [
    {
     "name": "stderr",
     "output_type": "stream",
     "text": [
      "100%|█████████████████████████████████████████████████████████████████████████████████████████████████████████████████████████████████████████████| 297/297 [00:16<00:00, 18.19it/s]\n"
     ]
    },
    {
     "name": "stdout",
     "output_type": "stream",
     "text": [
      "[29/08/25 08:53:09] Batch Id: batch_68b190783e088190b2abaff13bfad2b6,  Status: completed, Elapsed time 00:17:49\t\t\t\n"
     ]
    }
   ],
   "source": [
    "level5_tags_response = get_level_tags(buyers, un_tags, 5, all_tags)"
   ]
  },
  {
   "cell_type": "code",
   "execution_count": 32,
   "id": "234e415e",
   "metadata": {},
   "outputs": [],
   "source": [
    "t5 = pd.DataFrame(level5_tags_response)\n",
    "t5['tag5'] = t5['response'].apply(lambda x: json.loads(x['body']['choices'][0]['message']['content'])['tags'])"
   ]
  },
  {
   "cell_type": "code",
   "execution_count": 33,
   "id": "71762a4c",
   "metadata": {},
   "outputs": [],
   "source": [
    "buyers = buyers.merge(t5[['custom_id', 'tag5']], left_on='ticker', right_on='custom_id', how='left').drop(columns=['custom_id'])"
   ]
  },
  {
   "cell_type": "code",
   "execution_count": 34,
   "id": "941ffdd2",
   "metadata": {},
   "outputs": [],
   "source": [
    "buyers.to_csv('./dados/buyers/buyers_with_tags.csv', index=False)"
   ]
  },
  {
   "cell_type": "code",
   "execution_count": 101,
   "id": "f7cae983",
   "metadata": {},
   "outputs": [],
   "source": [
    "buyers2 = pd.read_csv('./dados/buyers/buyers_with_tags.csv')"
   ]
  },
  {
   "cell_type": "code",
   "execution_count": 114,
   "id": "02996713",
   "metadata": {},
   "outputs": [
    {
     "data": {
      "text/plain": [
       "['Financials']"
      ]
     },
     "execution_count": 114,
     "metadata": {},
     "output_type": "execute_result"
    }
   ],
   "source": [
    "buyers['tag1'].iloc[1]"
   ]
  },
  {
   "cell_type": "code",
   "execution_count": 123,
   "id": "43c09437",
   "metadata": {},
   "outputs": [],
   "source": [
    "def df_to_codes_dict2(df: pd.DataFrame, tags_df: pd.DataFrame, verbose: bool = False):\n",
    "    tags = {}\n",
    "    depth = tags_df.shape[1]\n",
    "    for row in df.iterrows():\n",
    "        for level in range(1, depth):\n",
    "            selected_tags = row[1][f'tag{level}']\n",
    "            for selected_tag in selected_tags:\n",
    "                try:\n",
    "                    code_val = tags_df[tags_df[f'tag{level}'] == selected_tag]['code'].iloc[0]\n",
    "                    tags[code_val] = selected_tag\n",
    "                except IndexError:\n",
    "                    if verbose:\n",
    "                        print(f'{selected_tag} not found at level {level}')\n",
    "                except ValueError:\n",
    "                    if verbose:\n",
    "                        print(f'{selected_tag} has invalid code at level {level}')\n",
    "    return tags"
   ]
  },
  {
   "cell_type": "code",
   "execution_count": 124,
   "id": "6ff16134",
   "metadata": {},
   "outputs": [],
   "source": [
    "from utils import remove_ancestors\n",
    "\n",
    "\n",
    "buyers['codes_tags'] = buyers.apply(lambda x: list(remove_ancestors(df_to_codes_dict2(x.to_frame().T, un_tags)).keys()), axis=1)"
   ]
  },
  {
   "cell_type": "code",
   "execution_count": 127,
   "id": "bcc8abbd",
   "metadata": {},
   "outputs": [],
   "source": [
    "buyers[['Nome','ticker','valor','resumo_final','codes_tags']].to_parquet('./dados/buyers/buyers_final.parquet')"
   ]
  },
  {
   "cell_type": "code",
   "execution_count": 3,
   "id": "e763ab8e",
   "metadata": {},
   "outputs": [],
   "source": [
    "final_buyers = pd.read_parquet('./dados/buyers/buyers_final.parquet')"
   ]
  },
  {
   "cell_type": "code",
   "execution_count": 9,
   "id": "7846cad9",
   "metadata": {},
   "outputs": [],
   "source": [
    "companies_financials = pd.read_csv('./dados/buyers/companies_financials.csv')\n",
    "ebitdas = companies_financials[(companies_financials['nome_coluna']=='EBITDA') & (companies_financials['data']=='2024')]\n",
    "ebitdas = ebitdas.rename(columns={'valor':'ebitda_2024'})\n",
    "dl = companies_financials[(companies_financials['data']=='2024')&(companies_financials['nome_coluna']==('Dívida líquida'))]\n",
    "dl = dl.rename(columns={'valor':'dl_2024'})"
   ]
  },
  {
   "cell_type": "code",
   "execution_count": 10,
   "id": "278972b3",
   "metadata": {},
   "outputs": [
    {
     "data": {
      "application/vnd.microsoft.datawrangler.viewer.v0+json": {
       "columns": [
        {
         "name": "index",
         "rawType": "int64",
         "type": "integer"
        },
        {
         "name": "Nome",
         "rawType": "object",
         "type": "string"
        },
        {
         "name": "ticker",
         "rawType": "object",
         "type": "string"
        },
        {
         "name": "valor",
         "rawType": "object",
         "type": "string"
        },
        {
         "name": "resumo_final",
         "rawType": "object",
         "type": "string"
        },
        {
         "name": "codes_tags",
         "rawType": "object",
         "type": "unknown"
        },
        {
         "name": "ebitda_2024",
         "rawType": "float64",
         "type": "float"
        },
        {
         "name": "dl_2024",
         "rawType": "float64",
         "type": "float"
        }
       ],
       "ref": "e2dfb92f-4747-457e-bec2-8fe51a1eb11c",
       "rows": [
        [
         "0",
         "BRF",
         "brfs3",
         "https://www.brf-global.com",
         "BRF is one of the largest food companies globally, with nearly 100,000 employees and operations in over 127 countries. Originating in Brazil, it produces a wide range of high-value food products focusing on protein-based fresh and frozen foods. BRF owns renowned brands such as Sadia, Perdigão, and Qualy. The company operates an integrated supply chain from production to distribution, including poultry and swine farming, processing, and sales. It emphasizes quality, safety, and sustainability, maintaining advanced laboratories for animal health and food quality. BRF also offers innovative ingredient solutions through BRF Ingredients, pet food products via BRF Pet, and has a robust logistics network with multiple production units and distribution centers worldwide. Its main services and product categories include processed meats, poultry, pork, ready meals, frozen products, margarine, pet food, and food service solutions. BRF is committed to ethical business practices, transparency, consumer satisfaction, innovation, sustainability, and social responsibility throughout its operations.",
         "['12.50.19' '12.50.11.21' '12.50.11.22' '12.50.11.20.11' '12.50.11.20.09'\n '12.50.11.20.13' '12.50.11.20.21' '12.50.11.20.23']",
         "8846000000.0",
         "8681000000.0"
        ],
        [
         "1",
         "B3",
         "b3sa3",
         "https://www.b3.com.br",
         "B3 is a Brazilian company that operates as one of the main stock exchanges in Latin America, providing services related to trading, clearing, and settlement of financial assets. Their main offerings include equity trading, derivatives trading, fixed income, and other financial market infrastructure services, supporting a wide range of financial products and market participants.",
         "['14.64.11.15' '14.64.11.17' '14.84.12.18.01' '14.84.12.18.02']",
         "6617000000.0",
         "-72000000.0"
        ],
        [
         "2",
         "Cogna",
         "cogn3",
         "https://www.cogna.com.br",
         "Cogna Educação is a leading Brazilian educational organization with over 50 years of history, serving more than 2.6 million students across Brazil through a portfolio of over 70 brands. It provides comprehensive education services ranging from early childhood to lifelong learning, including basic education, language courses, technical and professional education, preparatory courses, undergraduate and graduate programs, and medical education. The company operates through major brands such as Kroton (including Anhanguera for adult education and KrotonMed for medical education), Saber (offering innovative content and solutions for public education), and Somos Educação (providing educational systems, publishers, complementary teaching solutions, and digital platforms). Cogna also offers corporate education benefits, such as scholarships for employees and their dependents. The company is heavily invested in digital transformation, innovation, and the use of artificial intelligence to personalize learning experiences. Cogna serves individuals, companies, and governments with a strong emphasis on education technology and social impact programs.",
         "['11.86.13.20' '11.86.10.17' '11.86.11.16.02' '11.86.12.17.01'\n '11.86.12.17.02' '11.86.11.16.04' '11.86.12.18.03']",
         "1809000000.0",
         "5541000000.0"
        ],
        [
         "3",
         "Lojas Renner",
         "lren3",
         "https://www.lojasrennersa.com.br",
         "Lojas Renner S.A. is the largest fashion and lifestyle ecosystem in Brazil, operating through over 680 stores across Brazil, Argentina, and Uruguay, along with robust digital channels. Established in 1965, it comprises multiple brands including Renner (general retail fashion), Camicado (home and decoration), Youcom (youth lifestyle fashion), Ashua (curve and plus size fashion), Realize CFI (financial services), and Repassa (online resale marketplace). The company emphasizes sustainable and responsible fashion, guided by its 2030 sustainability commitments focusing on human relations and diversity, climate solutions, circular economy, and supply chain responsibility. It offers a wide range of products and services including clothing, footwear, accessories, home décor, financial credit and investment services, and an online marketplace facilitating resale and extended product lifecycle. Additionally, it invests heavily in innovation, technology, and social responsibility programs, such as the Instituto Lojas Renner promoting empowerment of women and vulnerable communities. Main product and service categories include fashion and lifestyle retail, home décor, financial solutions, and resale platform services.",
         "['11.53.11' '11.56.14' '11.53.10.18' '11.53.10.17' '11.53.10.25'\n '11.53.10.27' '11.53.10.15.04' '11.53.10.16.04' '11.53.10.20.02'\n '11.53.10.29.01' '11.53.10.26.04' '11.53.10.15.03' '11.53.10.16.03'\n '11.53.10.20.01' '11.53.10.15.01' '11.53.10.16.01' '11.53.10.15.02'\n '11.53.10.16.02' '11.53.10.29.03' '11.53.10.26.01']",
         "2503000000.0",
         "-1826000000.0"
        ],
        [
         "4",
         "Banco Bradesco",
         "bbdc4",
         "https://www.bradesco.com.br",
         "Bradesco is a financial services company based in Brazil. It offers a wide range of banking products and services including personal and business banking, loans, insurance, investment products, and digital banking solutions.",
         "['14.84.12.15.01' '14.84.13.15.02' '14.84.13.15.03' '14.84.13.15.06'\n '14.84.12.17.01' '14.84.12.17.06']",
         "0.0",
         "0.0"
        ],
        [
         "5",
         "Petrobras",
         "petr4",
         "https://www.investidorpetrobras.com.br",
         "Petrobras is a Brazilian multinational corporation and one of the world's largest oil and gas producers. It specializes in exploration and production, especially in deep and ultra-deep offshore waters, refining, energy generation, and marketing. The company aims to operate efficiently with low costs and low carbon emissions, targeting carbon neutrality for activities under its control by 2050. Its main products and services include petroleum exploration, oil and gas production, refining operations, energy generation, and commercial distribution of petroleum products. Additionally, Petrobras engages in social and environmental initiatives aligned with ESG principles, focusing on sustainable development and social responsibility in the communities it operates.",
         "['13.71.14' '13.71.11.23' '13.71.13.14.01' '13.71.13.14.02'\n '13.71.13.14.03' '13.71.11.22.06' '13.71.13.12.01']",
         "204234000000.0",
         "326816000000.0"
        ],
        [
         "6",
         "Itaúsa",
         "itsa4",
         "https://www.itausa.com.br",
         "Itaúsa is the largest publicly traded investment holding company in Brazil. Over its 50-year history, it has built a portfolio of seven leading companies with strong brands that are integral to the daily lives of Brazilians. Itaúsa focuses on investing in sectors that drive Brazil's development, emphasizing long-term value creation, solid governance, ethical conduct, and sustainable business practices. The company acts as a responsible agent of change, fostering sustainable growth and social impact through its investments and the Instituto Itaúsa, which promotes environmental conservation and social equity. Itaúsa's portfolio includes notable companies like Itaú Unibanco, Dexco, Alpargatas, Motiva, Aegea, Copa Energia, and NTS. Its main services involve managing investments in these diverse sectors, with a focus on governance, capital allocation, and promoting sustainability. Itaúsa also prioritizes transparency, investor relations, and ethical management across its operations.",
         "['14.84.10' '14.84.12.18' '14.84.12.17.01' '14.84.12.17.02'\n '14.84.12.17.06']",
         "17619000000.0",
         "4150000000.0"
        ],
        [
         "7",
         "Magazine Luiza",
         "mglu3",
         "https://www.magazineluiza.com.br",
         "Magazine Luiza is a Brazilian retail company that operates both physical stores and an e-commerce platform. The company offers a wide range of products and services including electronics, furniture, appliances, and various other consumer goods. Additionally, they provide financial services through Luizacred, their credit and loan division. Magazine Luiza also collaborates with business partners and offers solutions for enterprises. Customer service includes managing product returns, exchanges, and handling cancellations or order withdrawals.",
         "['11.52.16' '14.84.12' '11.52.14.18' '11.56.10.15.32' '11.56.10.15.02'\n '11.56.10.15.04' '11.56.10.15.19' '11.56.10.15.30']",
         "2895000000.0",
         "2417000000.0"
        ],
        [
         "8",
         "Minerva",
         "beef3",
         "https://www.minervafoods.com",
         "Minerva Foods is a leading global company specializing in the production and commercialization of beef and related products. It is the largest exporter of beef in South America with approximately 20% market share, operating 46 industrial units across Brazil, Argentina, Colombia, Uruguay, Paraguay, Australia, and Chile. The company offers a broad portfolio including fresh beef cuts under brands like Cabaña las Lilas, Estância 92, and PUL, as well as lamb cuts, industrialized meat products, and byproducts such as biodiesel (Minerva Biodiesel), natural casings (Minerva Casings), leather (Minerva Leather), meat ingredients (Minerva Ingredients), and energy solutions (Minerva Energy). Minerva Foods is committed to sustainability and innovation, implementing programs for carbon-neutral products (Zero Carbon Impact), responsible sourcing, and a traceable supply chain (Programa Renove). It operates with high standards of ethics, governance, and social responsibility and serves customers in over 100 countries worldwide through its distribution centers and international offices.",
         "['12.50.11.20.04' '12.50.11.20.14' '12.50.11.20.18' '12.50.11.20.05'\n '12.50.11.20.15']",
         "3096000000.0",
         "15621000000.0"
        ],
        [
         "9",
         "RaiaDrogasil",
         "radl3",
         "https://www.rd.com.br",
         "RD Sa",
         "['11.56.11.22' '11.56.11.15' '11.56.10.17.03' '11.56.10.17.20'\n '11.56.11.21.03' '11.56.11.21.05' '11.56.11.21.04']",
         "4203000000.0",
         "2750000000.0"
        ],
        [
         "10",
         "Embraer",
         "embr3",
         "https://www.embraer.com.br",
         "Embraer is a leading global aerospace company with over 55 years of experience. It operates in four main segments: Commercial Aviation, Defense & Security, Executive Jets, and Services & Support. The company designs, manufactures, and supports aircraft, delivering innovative and cost-effective solutions with a strong focus on safety, quality, sustainability, and technology. Embraer serves over 100 countries and more than 60 armed forces worldwide, providing a broad portfolio that includes commercial aircraft, executive jets, defense and security equipment, and comprehensive customer services including maintenance and support. The company is committed to sustainable growth, innovation, and excellence, investing heavily in research and development, pioneering sustainable aviation technologies including electric vertical take-off and landing aircraft (eVTOLs), and implementing advanced manufacturing technologies. Embraer is also dedicated to corporate integrity, environmental responsibility, and social governance, with global operations supported by a workforce of over 23,000 employees.",
         "['16.31.25' '16.23.21' '16.23.15.32' '16.23.15.31' '16.81.14.19.02'\n '16.81.14.19.01']",
         "0.0",
         "1785000000.0"
        ],
        [
         "11",
         "Cosan",
         "csan3",
         "https://www.statusinvest.com.br",
         "Status Invest is a financial investment platform that provides comprehensive tools, information, and services related to various investment assets primarily in the Brazilian and international markets. The company offers detailed data, analytics, and insights on stocks, real estate investment trusts (REITs), exchange-traded funds (ETFs), fixed income, cryptocurrencies, and other financial instruments. Its services include advanced search and analysis functionalities for stocks, IPOs, FIIs (Brazilian real estate funds), investment funds (FIAs, FIDCs, FIPs, FI-Infra, Fiagros), BDRs, Treasury bonds, and market indexes. Status Invest also offers personalized financial advisory services with several tiers of investment advisory plans (on-demand, exclusive, premium, private), designed to provide portfolio mapping, goal alignment, continuous monitoring by dedicated advisors, and fixed transparent fees. The advisory service emphasizes client-aligned interests and certified professional support to enhance investment strategies and growth. In addition, the platform features real-time data updates, dividend information, event calendars, and educational content like investment courses. Overall, Status Invest operates as a comprehensive investment management and advisory platform aiming to centralize investment tracking, provide research tools, and offer tailored financial advice to help investors make informed decisions and grow their wealth.",
         "['14.64.11' '14.84.13' '14.84.12.18' '14.84.12.16' '14.84.12.17.03'\n '14.84.12.17.01' '14.84.12.17.06' '14.84.12.17.05']",
         "7373000000.0",
         "56061000000.0"
        ],
        [
         "12",
         "Vibra Energia",
         "vbbr3",
         "https://www.vibraenergia.com.br",
         "Vibra Energia is a Brazilian energy company with a history of over 50 years, originally known as Petrobras Distribuidora. It is a leader in the distribution and commercialization of petroleum derivatives in Brazil, and has expanded to become a major multienergy platform. The company offers a broad portfolio of products and services including fuels, lubricants, chemicals, petrochemicals, and energy solutions with a strong focus on sustainability and the energy transition towards low-carbon alternatives. Vibra operates retail fuel stations under the Petrobras brand, convenience stores (BR Mania), and provides services to various market segments such as agribusiness, aviation, industries, transportation, and retail. The company also invests in innovation, startups, and new energy technologies, including sustainable aviation fuel (SAF) and electric mobility through ventures like EZVolt. Vibra maintains commitments to sustainability, corporate governance, social causes (notably combating sexual violence against children), and operates with transparency, ethical principles, and a strong focus on environmental, social, and governance (ESG) criteria.",
         "['13.15.10.17' '13.15.10.15.06' '13.15.10.15.05' '13.15.10.15.04'\n '13.15.12.15.26' '13.15.12.15.30']",
         "9323000000.0",
         "10328000000.0"
        ],
        [
         "13",
         "Raízen",
         "raiz4",
         "https://www.raizen.com.br",
         "Raízen is a major integrated energy company operating primarily in Brazil, Argentina, and Paraguay. It is a joint venture between Shell and Cosan, with over 45,000 employees and extensive partner networks. The company produces and distributes renewable and traditional energy products, focusing on sustainability, ethics, and operational excellence.\\n\\nMain products and services include: renewable energy production (ethanol, second-generation ethanol, biogas, bioenergy cogeneration); energy commercialization; mobility solutions (Shell-branded fuel stations, aviation fuels, premium products, lubricants); proximity retail (convenience stores like Shell Select and Oxxo); and sugar production and export. Raízen also operates a broad supply chain and logistics infrastructure with numerous plants, distribution centers, and offices across South America. It invests in social and environmental sustainability, innovation through its Pulse innovation hub, and corporate governance with transparency and compliance policies. Additionally, Raízen runs the Fundação Raízen social foundation focused on education and community development. The company holds multiple sustainability and quality certifications (Bonsucro, ISCC, ISO 14001, ISO 45001, and others). It also manages a comprehensive supplier development program and maintains strong ethics and conduct standards in its operations.",
         "['13.15.11' '13.15.10.17' '13.15.10.18.02' '13.15.12.15.26'\n '13.15.12.15.20']",
         "17131000000.0",
         "32344000000.0"
        ],
        [
         "14",
         "Grupo Vamos",
         "vamo3",
         "https://www.grupovamos.com.br",
         "Grupo Vamos is a Brazilian company specializing in vehicle leasing and sales, with a focus on commercial vehicles. Their main products and services include leasing and sales of trucks, agricultural machinery, buses (both road and urban), utility vehicles, and various truck implements. The company operates with a large fleet of over 54,000 assets and serves more than 1,500 clients through more than 19 stores nationwide. Grupo Vamos also offers plans such as Vamos Mais and caters to a wide range of customers supported by a robust network including more than 5,000 accredited workshops and over 600 mechanics. The company emphasizes sustainability, corporate governance, and investor relations, providing comprehensive financial reports and services for investors.",
         "['11.25.17' '16.21.10' '11.25.18' '16.78.14.15' '16.78.11.18.11'\n '16.78.11.18.12' '16.78.11.18.09' '16.78.11.18.02']",
         "3313000000.0",
         "11704000000.0"
        ],
        [
         "15",
         "Azevedo & Travassos",
         "azev4",
         "https://www.azevedotravassos.com.br",
         "Azevedo & Travassos is a Brazilian holding company with over 145 years of engineering experience through its operational companies: Azevedo & Travassos Infraestrutura and Heftos Óleo & Gás Construções. The group specializes in large-scale infrastructure and oil & gas engineering projects. Its services and product categories include heavy construction, sanitation, pipeline construction (including oil and gas pipelines), electromechanical and industrial assembly, maintenance and industrial construction for oil and gas units (both onshore and offshore), asset management, scheduled turnarounds, and infrastructure investments via its investment arm. Key projects span transportation infrastructure (roads, bridges, tunnels, railways, metro), sanitation systems, industrial installations, and oil and gas sector operations, including platforms and refineries. The group emphasizes innovation, quality, transparency, and compliance, supported by a strong team of technical experts and a rich historical legacy dating back to 1922. It operates with a modern management approach while maintaining its century-old traditions.",
         "['13.71.13' '16.22.10.17' '16.22.10.19' '13.71.16.12' '16.72.14.11.13'\n '16.72.14.11.03' '16.72.14.11.07' '16.72.14.11.08' '16.72.14.11.10']",
         "-225000000.0",
         "106000000.0"
        ],
        [
         "16",
         "Vale",
         "vale3",
         "https://www.vale.com",
         "PT Vale Indonesia Tbk is a leading mineral mining company operating in Indonesia for over half a century, focused on sustainable development. It mines laterite nickel ore and processes it into nickel matte, with an average annual nickel production of about 75,000 tons. The company utilizes pyrometallurgical technology for nickel production and has ongoing projects to build nickel processing plants and smelters employing technologies such as High Pressure Acid Leaching (HPAL) for producing intermediate products for electric vehicle batteries. PT Vale operates under a legal concession covering large areas in Sulawesi and is partly owned by major global mining companies including Vale Canada Limited and Sumitomo Metal Mining, as well as Indonesian mining holding company MIND ID. The company prioritizes local leadership development and sustainable mining practices with commitments to environmental management, social development, and corporate governance.",
         "['18.11.10.15' '18.11.10.16.06' '18.11.10.19.04' '18.11.10.17.12'\n '18.11.10.17.11' '18.11.10.19.14']",
         "71984000000.0",
         "65010000000.0"
        ],
        [
         "17",
         "Cemig",
         "cmig4",
         "https://www.cemig.com.br",
         "Cemig (Companhia Energética de Minas Gerais) is a leading integrated energy company in Brazil with operations across 26 states and the Federal District. Founded in 1952, Cemig operates in the generation, transmission, distribution, and commercialization of electric energy as well as the distribution of natural gas. The company manages a diverse portfolio including hydroelectric, wind, and photovoltaic power plants, and operates extensive transmission and distribution networks, primarily serving the state of Minas Gerais with over 9 million consumers in 774 municipalities. Cemig is also a major player in the free energy market and a leading commercializer of electric energy in Brazil. Additionally, through its subsidiary Gasmig, it exclusively distributes natural gas in Minas Gerais to various sectors including industrial, residential, commercial, and automotive. Cemig promotes sustainability, efficiency, and innovation in energy solutions and provides a range of services such as new connections, billing, customer service channels, energy efficiency programs, and initiatives in social responsibility and environmental conservation. The company is publicly traded on the São Paulo, New York, and Madrid stock exchanges and is recognized for its commitment to compliance, transparency, and ethical practices.",
         "['20.83.10.18.01' '20.83.10.18.03' '20.83.10.18.04' '20.83.10.18.05'\n '20.83.10.18.06' '20.83.10.18.07' '20.83.10.16.01' '20.83.10.19.01'\n '20.83.10.19.04']",
         "11253000000.0",
         "10023000000.0"
        ],
        [
         "18",
         "Grupo Pão de Açúcar",
         "pcar3",
         "https://www.gpa.com.br",
         "Gerenciamento Projetos e Assessoria Ltda. (GPA) is a Brazilian company specializing in architectural and engineering project development and management. Their services span multiple sectors including commercial, residential, corporate, educational, and industrial projects. They offer comprehensive solutions such as architectural design for various building types (industrial, commercial, residential, educational facilities, hotels, shopping centers), infrastructure projects (sewage networks, water treatment, landscaping), interior architecture (workspace layout and furniture planning), project management (coordinating multidisciplinary teams, cost and time optimization), and construction management (logistics, physical-financial control, supplier selection). Established in 1986, GPA provides end-to-end services from conceptualization through detailed design and implementation management for projects in São Paulo, Brazil.",
         "['16.72.10' '16.72.15' '16.81.10.34' '16.72.12.11' '16.72.11.11'\n '16.72.12.10' '16.72.14.11' '16.81.10.15.08' '16.81.10.15.13'\n '16.81.10.15.23']",
         "731000000.0",
         "1399000000.0"
        ],
        [
         "19",
         "Rumo",
         "rail3",
         "https://www.rumolog.com",
         "Rumo is the largest private freight railway operator in Brazil, offering comprehensive logistics solutions that connect key agricultural and industrial regions across the country to major ports. Their services encompass freight transport via a vast rail network of approximately 14,000 km operated across multiple states, terminal operations, state railway projects (such as the Ferrovia Estadual de Mato Grosso), and container logistics. Rumo also emphasizes sustainability, social responsibility through its nonprofit Instituto Rumo, innovation, and robust governance practices. It manages significant volumes of exports, particularly grains, and works on expanding and modernizing its infrastructure to support Brazil's agribusiness growth while minimizing environmental impact. It maintains programs for supplier management, ethical compliance, and employee development, including internship, trainee, and apprenticeship initiatives.",
         "['16.78.14.21' '16.78.10.16.02' '16.78.10.16.08' '16.78.14.18.11']",
         "4732000000.0",
         "11661000000.0"
        ],
        [
         "20",
         "Petrobras",
         "petr3",
         "https://www.investidorpetrobras.com.br",
         "Petrobras is a Brazilian multinational corporation and one of the world's largest oil and gas producers. It specializes in exploration and production, especially in deep and ultra-deep offshore waters, refining, energy generation, and marketing. The company aims to operate efficiently with low costs and low carbon emissions, targeting carbon neutrality for activities under its control by 2050. Its main products and services include petroleum exploration, oil and gas production, refining operations, energy generation, and commercial distribution of petroleum products. Additionally, Petrobras engages in social and environmental initiatives aligned with ESG principles, focusing on sustainable development and social responsibility in the communities it operates.",
         "['13.71.11' '13.71.13' '13.15.10.15' '13.71.16.11.06' '13.71.16.11.07'\n '13.71.16.11.02' '13.71.16.12.02' '13.71.16.12.06']",
         "204234000000.0",
         "326816000000.0"
        ],
        [
         "21",
         "Cyrela",
         "cyre3",
         "https://www.cyrela.com.br",
         "Cyrela is a real estate company primarily engaged in the development and sale of residential properties. Their main offerings include a diverse portfolio of residential projects, aiming to meet various customer needs. They provide services related to property development and sales, along with customer support and communication channels through their contact services.",
         "['19.95.12.21.01' '19.95.12.21.02']",
         "0.0",
         "2921000000.0"
        ],
        [
         "22",
         "Motiva",
         "motv3",
         "https://www.ccr.com.br",
         "Motiva is a company focused on improving people's lives through mobility in Brazil. Formerly known as Grupo CCR, Motiva manages transportation infrastructure including highways, airports, and railways across the country. They operate 37 concessions spanning roads, airports, and rail tracks in 13 states, serving all regions of Brazil. Their main services include highway management (such as AutoBAn and RioSP), operation of over 10 airports (e.g., Bacacheri and Bagé), and management of rail systems including ViaQuatro and VLT Carioca. Motiva also emphasizes sustainability and ESG practices, investing approximately 46 billion BRL in upcoming years in their business areas. Additionally, the company engages in social investments through its institute supporting health, education, culture, and sports projects. Motiva is committed to innovation, diversity in leadership, and transparent reporting to investors and stakeholders.",
         "['16.78.14' '16.78.11.15' '16.78.11.16.03' '16.78.11.18.02'\n '16.78.11.18.15' '16.78.11.20.01']",
         "7004000000.0",
         "27169000000.0"
        ],
        [
         "23",
         "CVC",
         "cvcb3",
         "https://www.cvccorp.com.br",
         "CVC Corp is a leading travel and tourism company based in Brazil with operations in Brazil and Argentina. Established in 1972, it has grown to serve mainly the Brazilian middle class, offering travel packages and services through a mix of physical stores, franchises, and digital platforms. The company operates several well-known brands in Brazil and Argentina, catering to leisure, corporate travel, intercultural exchange, and luxury travel segments. Its services include the sale of air tickets, travel packages, tour operations, and exchange programs, serving both final consumers and travel agents. CVC Corp also invests in technology and innovation, incorporating AI to enhance sales and customer engagement. It manages a broad geographical presence through direct stores, franchises, and affiliated consultants, including in smaller cities. With a commitment to sustainability and governance, it holds certifications and has established policies for ethical conduct and corporate governance. The company is publicly traded with a strong focus on growth and operational efficiency.",
         "['11.90.12.18' '11.90.12.15.02' '11.90.12.15.01']",
         "313000000.0",
         "32000000.0"
        ],
        [
         "24",
         "Usiminas",
         "usim5",
         "https://www.usiminas.com",
         "Usiminas is a Brazilian company specializing in steel production and providing integrated, customized steel solutions for various industries. Their main products include thick plates, hot strips, cold rolled sheets, electro-galvanized, and hot-dip galvanized steel sheets. They serve multiple market sectors such as automotive, civil construction, energy, household appliances, naval, oil and gas, machinery, and equipment. Usiminas emphasizes sustainability, ethical governance, innovation, and inclusivity through various programs, including diversity and inclusion initiatives and corporate social responsibility projects via its foundation and institute. They also have a corporate university for employee development and operate across six Brazilian states with a strong focus on quality, safety, and environmental responsibility.",
         "['18.11.18' '18.11.14' '18.11.17.15']",
         "1725000000.0",
         "814000000.0"
        ],
        [
         "25",
         "Banco Bradesco",
         "bbdc3",
         "https://www.bradesco.com.br",
         "Bradesco is a financial services company based in Brazil. It offers a wide range of banking products and services including personal and business banking, loans, insurance, investment products, and digital banking solutions.",
         "['14.84.12.15.01' '14.84.13.15.20' '14.84.12.17.01' '14.84.12.17.02'\n '14.84.12.17.06']",
         "0.0",
         "0.0"
        ],
        [
         "26",
         "PetroRio",
         "prio3",
         "https://www.prio3.com.br",
         "PRIO is a Brazilian independent oil and gas company specializing in the revitalization of mature offshore oil fields. It operates several oil fields including Polvo, Tubarão Martelo, Frade, Wahoo, Albacora Leste, and Peregrino, producing over 100,000 barrels per day. PRIO focuses on efficiency, safety, sustainability, and innovative management to maximize production and extend field life. The company also invests in Corporate Venture Capital (PRIO Ventures) to fund startups with disruptive technologies in oil and gas, including production development, health, environment, safety, operations maintenance, and digital transformation. PRIO promotes strong ESG initiatives with commitments to environmental preservation, social responsibility, health and well-being of employees, and ethical governance. Additionally, PRIO supports social and cultural projects through its Instituto PRIO, targeting environmental education, biodiversity and climate actions, and sustainable development of coastal and maritime communities. Core products and services include oil production from mature fields, trading, and investment in oil and gas technologies.",
         "['13.71.16.12.02' '13.71.13.14.12' '13.71.16.16.06' '13.71.16.16.03']",
         "9439000000.0",
         "18440000000.0"
        ],
        [
         "27",
         "Localiza",
         "rent3",
         "https://www.localiza.com",
         "Localiza Rent a Car is a leading car rental company operating mainly in Latin America, offering a wide range of mobility services. Their main products and services include daily and monthly car rentals suitable for individuals and businesses, fleet management solutions, car subscription services (MEOO), rideshare vehicle rentals (ZARP for Uber drivers), and the sale of pre-owned cars. They provide specialized rental services for businesses, travel agencies, and insurance companies, featuring personalized support, fleet monitoring, cost management tools, and flexible contract options. The company has a strong presence across countries like Brazil, Argentina, Colombia, Ecuador, Mexico, Paraguay, and Uruguay, supported by an extensive agency network. Additional offerings include a loyalty program called Localiza Fidelidade, which rewards customers with points for rentals and provides exclusive benefits. Localiza also operates a franchise model to expand its reach. Overall, Localiza emphasizes convenience, customized solutions, and sustainability by compensating carbon emissions from rentals.",
         "['11.25.19.17' '11.25.10.15.03' '11.25.10.15.05' '11.25.10.15.07']",
         "11914000000.0",
         "33340000000.0"
        ],
        [
         "28",
         "Copel",
         "cple6",
         "https://www.copel.com",
         "Copel (Companhia Paranaense de Energia) is one of the largest integrated energy companies in Brazil, operating primarily in the state of Paraná. The company offers a range of services including energy distribution, generation, transmission, and participation in the free energy market. Copel manages extensive electrical infrastructure such as substations, intelligent meters, and a wide network of power lines to provide electricity to both urban and rural areas. Besides its core electricity business, Copel provides products like home and life insurance services. The company maintains a strong focus on corporate governance, transparency, sustainability, and integrity programs to ensure ethical business practices and compliance with regulations. Additionally, Copel supports initiatives in research, development, innovation, and social and cultural projects through sponsorship. It also offers customer services such as digital billing and consumption simulation. Key services include energy distribution, generation, transmission, free market energy trading, and insurance products.",
         "['20.83.10.18.01' '20.83.10.18.02' '20.83.10.18.03' '20.83.10.18.04'\n '20.83.10.18.05' '20.83.10.18.06' '20.83.10.18.07']",
         "5529000000.0",
         "13083000000.0"
        ],
        [
         "29",
         "Equatorial Energia",
         "eqtl3",
         "https://www.equatorialenergia.com.br",
         "Grupo Equatorial is a Brazilian company operating in the energy sector. It serves multiple states including Alagoas, Amapá, Goiás, Maranhão, Pará, Piauí, and Rio Grande do Sul. The company focuses on electricity distribution and related services, providing energy solutions to various regions within Brazil.",
         "['13.71.11.22.06']",
         "0.0",
         "42789000000.0"
        ],
        [
         "30",
         "AZT Energia",
         "azte3",
         "https://www.statusinvest.com.br",
         "Status Invest is a financial investment platform that provides comprehensive tools, information, and services related to various investment assets primarily in the Brazilian and international markets. The company offers detailed data, analytics, and insights on stocks, real estate investment trusts (REITs), exchange-traded funds (ETFs), fixed income, cryptocurrencies, and other financial instruments. Its services include advanced search and analysis functionalities for stocks, IPOs, FIIs (Brazilian real estate funds), investment funds (FIAs, FIDCs, FIPs, FI-Infra, Fiagros), BDRs, Treasury bonds, and market indexes. Status Invest also offers personalized financial advisory services with several tiers of investment advisory plans (on-demand, exclusive, premium, private), designed to provide portfolio mapping, goal alignment, continuous monitoring by dedicated advisors, and fixed transparent fees. The advisory service emphasizes client-aligned interests and certified professional support to enhance investment strategies and growth. In addition, the platform features real-time data updates, dividend information, event calendars, and educational content like investment courses. Overall, Status Invest operates as a comprehensive investment management and advisory platform aiming to centralize investment tracking, provide research tools, and offer tailored financial advice to help investors make informed decisions and grow their wealth.",
         "['14.64.10.20' '14.64.11.15' '14.64.11.16' '14.84.12.17.01'\n '14.84.12.17.03' '14.84.12.17.02' '14.64.11.19.03' '14.84.12.17.06']",
         "-53000000.0",
         "3000000.0"
        ],
        [
         "31",
         "Assaí",
         "asai3",
         "https://www.assai.com.br",
         "Assaí Atacadista is a Brazilian wholesale and retail company serving small and medium-sized businesses as well as individual consumers seeking cost savings and product variety. Founded over 50 years ago and headquartered in São Paulo, it operates more than 300 stores across Brazil. Assaí offers over 7,000 products including groceries, perishables, beverages, hygiene items, cleaning products, bazaar items, packaging, and home appliances. Their business model emphasizes low operational costs, competitive pricing, and a wide assortment tailored to their diverse clientele. Payment options include multiple card types, digital wallets, and aid programs. The company also focuses on sustainability, social responsibility, and inclusion, supported by an active institutional program, the Instituto Assaí. Assaí provides services such as customer loyalty cards, telecommunications recharges, and gift cards. The brand is recognized for excellence in customer service, innovation, and corporate governance, holding several industry awards and top rankings in Brazil. Their target customers include entrepreneurs from food service and retail sectors, companies, and end consumers who buy in bulk or as individuals.",
         "['12.50.13' '12.50.40' '12.50.42' '12.50.44' '12.50.46' '12.50.30'\n '12.50.32' '12.50.34' '12.50.36' '12.50.10' '12.50.11' '12.50.22.11'\n '12.50.22.12' '12.50.19.21' '12.50.19.26' '12.50.20.33.01']",
         "5484000000.0",
         "10937000000.0"
        ],
        [
         "32",
         "Marfrig",
         "mrfg3",
         "https://www.marfrig.com.br",
         "Marfrig Global Foods is a multinational company focused on the food industry, specializing in the production and distribution of meat products. Its main business involves supplying beef and related meat products across various regions including Brazil, Argentina, Uruguay, Chile, and the United States. Marfrig offers a range of services and products related to meat processing and food supply.",
         "['12.50.11.20.04' '12.50.11.20.05']",
         "13134000000.0",
         "43224000000.0"
        ],
        [
         "33",
         "Rede D'Or",
         "rdor3",
         "https://www.rededorsaoluiz.com.br",
         "Rede D'Or is the largest integrated healthcare network in Brazil and Latin America, founded in 1977. It operates 78 own hospitals, 55 oncology clinics, and provides a comprehensive range of healthcare services including emergency care, specialist consultations, diagnostic exams, surgeries, robotic-assisted surgeries (with 18 robots across 17 hospitals), oncology treatments, transplantation, immunobiologicals, molecular pathology and genetic testing. The group also manages specialized networks such as Oncologia D'Or for cancer care, Cardiologia D'Or, and Maternidade D'Or, and invests in research and education via the Instituto D'Or de Pesquisa e Ensino (IDOR). Rede D'Or is present in multiple Brazilian states and emphasizes humanized care, advanced technology, research, and quality standards. They also engage in social projects supporting health, inclusion, environment, and culture.",
         "['15.85.11' '15.85.12.17' '15.85.13.17' '15.85.12.15' '15.85.10.15.01'\n '15.85.12.16.15' '15.85.12.16.09' '15.85.12.16.03' '15.85.10.15.09']",
         "9073000000.0",
         "232000000.0"
        ],
        [
         "34",
         "Eletrobras",
         "elet3",
         "https://www.eletrobras.com",
         "Eletrobras is a company focused on the electricity sector, primarily involved in the generation, transmission, and distribution of electric power. It offers services related to the production and delivery of electricity, contributing to the energy supply infrastructure.",
         "[]",
         "26236000000.0",
         "39770000000.0"
        ],
        [
         "35",
         "Serena Energia",
         "srna3",
         "https://www.statusinvest.com.br",
         "Status Invest is a financial investment platform that provides comprehensive tools, information, and services related to various investment assets primarily in the Brazilian and international markets. The company offers detailed data, analytics, and insights on stocks, real estate investment trusts (REITs), exchange-traded funds (ETFs), fixed income, cryptocurrencies, and other financial instruments. Its services include advanced search and analysis functionalities for stocks, IPOs, FIIs (Brazilian real estate funds), investment funds (FIAs, FIDCs, FIPs, FI-Infra, Fiagros), BDRs, Treasury bonds, and market indexes. Status Invest also offers personalized financial advisory services with several tiers of investment advisory plans (on-demand, exclusive, premium, private), designed to provide portfolio mapping, goal alignment, continuous monitoring by dedicated advisors, and fixed transparent fees. The advisory service emphasizes client-aligned interests and certified professional support to enhance investment strategies and growth. In addition, the platform features real-time data updates, dividend information, event calendars, and educational content like investment courses. Overall, Status Invest operates as a comprehensive investment management and advisory platform aiming to centralize investment tracking, provide research tools, and offer tailored financial advice to help investors make informed decisions and grow their wealth.",
         "['14.84.12.18' '14.64.11.15' '14.64.11.16' '14.84.12.17.01'\n '14.84.12.17.03' '14.84.12.17.06' '14.84.12.17.05' '14.84.12.17.02']",
         "2303000000.0",
         "10675000000.0"
        ],
        [
         "36",
         "Gerdau",
         "ggbr4",
         "https://www.gerdau.com",
         "Gerdau is a leading global steel producer that transforms recycled scrap metal into high-quality steel products. Operating in North America and other regions, they provide a wide array of steel products including special bar quality steel, merchant bars, beams, rebar, piling, semi-finished, and special/value-added steel products. They also have a strong focus on metals recycling, sustainability, and digital innovation to enhance their operations. Gerdau supports various market applications such as construction, manufacturing, and transportation, and emphasizes corporate governance, social responsibility, and environmental stewardship.",
         "['18.11.14' '18.11.19.15' '18.11.19.18' '18.11.19.16.02' '18.11.19.16.12']",
         "10613000000.0",
         "5359000000.0"
        ],
        [
         "37",
         "Siderúrgica Nacional",
         "csna3",
         "https://www.csn.com.br",
         "CSN (Companhia Siderúrgica Nacional) is a leading Brazilian multinational company primarily involved in steel production and mining. It operates through various subsidiaries and segments including steelmaking, mining, cement production, energy generation, logistics, packaging, and port terminals. CSN's operations include the production of steel and a wide range of steel products such as hot and cold rolled coils, galvanized steel, and painted steel. CSN Mineração, its mining unit, is one of Brazil's top iron ore exporters with extensive mining and beneficiation assets, including mines and port terminals. The company also produces cement made partly from byproducts of steelmaking and owns or operates logistics and infrastructure assets such as railways (e.g., Transnordestina and FTL railways) and port terminals (e.g., Sepetiba Tecon). CSN offers chemical coproducts from steel production, energy from hydroelectric and thermal plants, and has services including technical support, product development, and supply chain operations. The company emphasizes sustainability, innovation, environmental management, and social responsibility in its operations. Key product and service categories include steel and related products, mining and beneficiation of iron ore, cement production, energy generation and commercialization, freight and logistics services via railways, port terminal operations, and metal packaging solutions.",
         "['13.71.10.17' '13.71.10.15' '13.71.10.16' '16.73.15.21' '16.73.12.15.04'\n '16.73.12.15.07' '16.73.12.15.08' '16.73.12.15.02']",
         "8061000000.0",
         "32693000000.0"
        ],
        [
         "38",
         "Metalúrgica Gerdau",
         "goau4",
         "https://www.gerdau.com",
         "Gerdau is a leading global steel producer that transforms recycled scrap metal into high-quality steel products. Operating in North America and other regions, they provide a wide array of steel products including special bar quality steel, merchant bars, beams, rebar, piling, semi-finished, and special/value-added steel products. They also have a strong focus on metals recycling, sustainability, and digital innovation to enhance their operations. Gerdau supports various market applications such as construction, manufacturing, and transportation, and emphasizes corporate governance, social responsibility, and environmental stewardship.",
         "['18.11.14' '18.11.17.15' '18.11.17.16' '18.11.19.16.02' '18.11.19.16.12']",
         "10600000000.0",
         "5265000000.0"
        ],
        [
         "39",
         "SLC Agrícola",
         "slce3",
         "https://www.slcagricola.com.br",
         "SLC Agrícola is one of the largest agricultural commodity producers in Brazil, founded in 1977 and based in Porto Alegre. It operates approximately 733,000 hectares across 23 production units in seven Brazilian states within the Cerrado region. The company produces cotton, corn, and soybeans and engages in integrated crop-livestock farming (ILP). It also produces and sells seeds of cotton and soybean under the SLC Sementes brand. SLC Agrícola is recognized on major Brazilian stock indices and has a strong commitment to sustainability, quality, and innovation. Its business model combines asset-light operations, maximizing asset utilization, and use of owned land, focusing on increasing productivity and sustainability. The company adopts modern management and agricultural techniques, including digital agriculture and crop rotation. SLC Agrícola also operates a venture builder program supporting agro-startups, emphasizing innovation in agriculture. Products and services offered include commodity crop production (cotton, corn, soy), integrated crop-livestock farming, seed production and commercialization, agricultural innovation via venture building, and advanced agriculture technology and management practices. The company is committed to environmental and social responsibility and has received numerous awards for sustainability, innovation, and workplace excellence.",
         "['12.50.10.17' '16.21.10.21' '12.50.22.11.09' '18.11.12.18.02'\n '16.21.10.16.04' '16.21.10.16.01']",
         "1799000000.0",
         "3618000000.0"
        ],
        [
         "40",
         "PetroRecôncavo",
         "recv3",
         "https://www.statusinvest.com.br",
         "Status Invest is a financial investment platform that provides comprehensive tools, information, and services related to various investment assets primarily in the Brazilian and international markets. The company offers detailed data, analytics, and insights on stocks, real estate investment trusts (REITs), exchange-traded funds (ETFs), fixed income, cryptocurrencies, and other financial instruments. Its services include advanced search and analysis functionalities for stocks, IPOs, FIIs (Brazilian real estate funds), investment funds (FIAs, FIDCs, FIPs, FI-Infra, Fiagros), BDRs, Treasury bonds, and market indexes. Status Invest also offers personalized financial advisory services with several tiers of investment advisory plans (on-demand, exclusive, premium, private), designed to provide portfolio mapping, goal alignment, continuous monitoring by dedicated advisors, and fixed transparent fees. The advisory service emphasizes client-aligned interests and certified professional support to enhance investment strategies and growth. In addition, the platform features real-time data updates, dividend information, event calendars, and educational content like investment courses. Overall, Status Invest operates as a comprehensive investment management and advisory platform aiming to centralize investment tracking, provide research tools, and offer tailored financial advice to help investors make informed decisions and grow their wealth.",
         "['14.84.10' '14.64.11.15' '14.64.11.16' '14.84.12.18' '14.84.12.17.01'\n '14.84.12.17.03' '14.84.12.17.05' '14.84.12.17.06' '14.84.12.17.02']",
         "1643000000.0",
         "734000000.0"
        ],
        [
         "41",
         "Hapvida",
         "hapv3",
         "https://www.hapvida.com.br",
         "Hapvida is the largest health and dental insurance operator in Latin America, serving approximately 15.8 million beneficiaries with 80 years of experience in the healthcare sector. The company offers a comprehensive range of health and dental plans for individuals, businesses (including microenterprises), and various plan categories with local, regional, and national coverage. Hapvida operates an integrated network of healthcare facilities across Brazil, including 86 hospitals, 80 emergency care centers, 365 clinics, and 301 diagnostic units for imaging and laboratory testing. Services include medical consultations, exams scheduling, teleconsultations, preventive medicine programs, epidemiological monitoring, medical and dental treatments, hospital and outpatient emergency care, high-complexity care, and administration of healthcare plans. They also provide financial services such as billing, debt negotiation, and online access to medical results and authorizations. Hapvida emphasizes quality and patient safety through its Qualitotal program, clinical research via its Clinical Research Institute, medical and dental education programs, and compliance with ethics and integrity policies. The company continuously invests in innovation, technology, and humanized care to promote accessible, high-quality healthcare and dental services throughout Brazil.",
         "['15.85.11' '15.85.10.16' '15.85.12.15' '15.85.12.18' '15.85.12.20'\n '15.85.10.15.02' '15.85.10.15.01' '15.85.10.15.03' '15.85.10.15.07'\n '15.85.10.17.01']",
         "2194000000.0",
         "3980000000.0"
        ],
        [
         "42",
         "Dexco",
         "dxco3",
         "https://www.dex.co",
         "Dexco is a leading Brazilian company specializing in construction, renovation, and decoration materials. With over 70 years of history, it operates as a multi-business platform encompassing a portfolio of strong brands, including Deca, Portinari, Castelatto, Ceusa, Duratex, Durafloor, and Florestal. Dexco's core products and services include industrialized wood panels, sanitary ware (louças sanitárias), metal fittings, ceramic coatings, and advanced ceramic solutions. The company also emphasizes sustainability and ESG (Environmental, Social, and Governance) principles, managing extensive forestry operations and promoting eco-efficient practices. Dexco supports innovation through initiatives such as corporate venture capital investments and digital transformation aimed at enhancing consumer experiences and operational efficiency. Additionally, Dexco invests in professional training programs and maintains a strong commitment to social responsibility and community engagement.",
         "['16.30.11' '16.30.16.15' '16.30.16.17' '16.30.16.20' '16.30.17.15'\n '16.30.17.16' '16.30.10.36.02' '16.30.10.36.01']",
         "2157000000.0",
         "4725000000.0"
        ],
        [
         "43",
         "Arezzo",
         "azza3",
         "https://www.arezzoco.com.br",
         "Azzas 2154 is the largest fashion group in Latin America, formed in 2024 through the merger of Arezzo&Co and Grupo SOMA. The company operates with sustainability as a core business principle, promoting social, environmental, and ethical responsibility. It comprises 27 fashion brands and employs over 22,500 people, with more than 2,000 stores, including 1,500 franchises, serving over 11 million customers. Their business operates across four units: Footwear and Accessories, Women's Apparel, Democratic Apparel, and Men's Apparel. The group focuses on innovative, sustainable fashion products and emphasizes Brazilian creativity and culture on the global stage. Key offerings include clothing, footwear, and fashion accessories across various brands under its portfolio.",
         "['11.53.11' '11.53.12' '11.53.10.25' '11.53.10.17' '11.53.10.19'\n '11.53.10.26' '11.53.10.27' '11.53.10.16.04' '11.53.10.16.02'\n '11.53.10.29.01' '11.53.10.29.02' '11.53.10.20.02']",
         "798000000.0",
         "1880000000.0"
        ],
        [
         "44",
         "Locaweb",
         "lwsa3",
         "https://www.locaweb.com.br",
         "Locaweb is a Brazilian company specializing in internet services, primarily focusing on web hosting and cloud computing solutions. Their main products and services include email services (Email Locaweb, Email GO, Email Exchange, Email Marketing, SMTP Locaweb, Google Workspace), various hosting options (web hosting, WordPress hosting, dedicated hosting, VPS hosting, cPanel and Plesk reseller hosting), domain registration, SSL certificates, cloud servers, virtual PBX, social media management tools, backup solutions, digital security, website builders, affiliate programs, and other related internet infrastructure services. Locaweb operates one of the largest data centers in Latin America, providing high availability and security. They also emphasize customer support through extensive help resources, technical assistance, and an ombudsman service.",
         "['10.43.20' '10.43.23.15' '10.43.22.31' '10.43.22.26.06' '10.43.22.26.04'\n '10.43.22.26.09' '10.43.22.26.26' '10.43.22.28.11' '10.43.23.28.06']",
         "244000000.0",
         "-470000000.0"
        ],
        [
         "45",
         "Oi",
         "oibr3",
         "https://www.oi.com.br",
         "Oi is a Brazilian telecommunications and technology company focusing on providing integrated digital solutions primarily for large public and private companies. Its main offerings include managed network services, cybersecurity, cloud computing, artificial intelligence, unified communications and collaboration (UC&C), internet of things (IoT), big data analytics, digital applications development, observability and monitoring systems, connectivity via fiber optics, and fixed-line telephony in mandated areas. Oi operates a robust portfolio tailored for the corporate market and continues to evolve from traditional telephony towards advanced IT and communication technologies, emphasizing innovation, digital transformation, and sustainability practices.",
         "['10.43.19' '10.43.20' '10.43.23.28' '10.43.23.32' '10.43.22.33'\n '10.43.22.16' '10.43.22.28.14' '10.43.22.26.09' '10.43.22.26.12'\n '10.43.22.28.11' '10.43.22.26.38']",
         "-1169000000.0",
         "10201000000.0"
        ],
        [
         "46",
         "MRV",
         "mrve3",
         "https://www.mrv.com.br",
         "The provided webpage content does not contain any information about the company or its products and services, as it only indicates that JavaScript needs to be enabled to run the application.",
         "['17.32.13.10.01' '17.32.13.10.02' '17.32.13.10.03' '17.32.13.10.05'\n '17.32.13.10.06' '17.32.13.10.07' '17.32.13.10.08' '17.32.13.10.09'\n '17.32.13.10.10' '17.32.13.10.11' '17.32.13.10.12' '17.32.13.10.13'\n '17.32.13.10.14' '17.32.13.10.15' '17.32.13.10.16' '17.32.13.10.17'\n '17.32.13.10.18' '17.32.13.10.19' '17.32.13.10.20' '17.32.13.10.21'\n '17.32.13.10.22' '17.32.13.10.23']",
         "606000000.0",
         "9366000000.0"
        ],
        [
         "47",
         "TIM",
         "tims3",
         "https://www.tim.com.br",
         "TIM is a leading telecommunications company in Brazil, offering a wide range of services including mobile telephony, internet services (both mobile and fixed broadband), and voice services. The company provides various types of plans such as prepaid, control, and postpaid plans for individual and corporate customers. TIM is also a pioneer in 5G technology deployment in Brazil and offers solutions for IoT and machine-to-machine communication. Additionally, it has a strong focus on customer service quality, accessibility, and regulatory compliance. TIM invests in social initiatives through Instituto TIM, promoting science, technology, education, inclusion, and innovation. The company also supports and sponsors cultural and sports events, including major music festivals. It maintains active participation in consumer councils to ensure service quality and user engagement. Main products and services include mobile phone plans, fixed and mobile internet, corporate telecommunications solutions, customer service channels, and value-added services like streaming subscriptions and digital content.",
         "['10.43.19' '10.43.20' '10.43.22.28' '10.43.22.31.01' '10.43.22.31.02'\n '10.43.22.31.05' '10.43.22.31.06' '10.43.22.31.07' '10.43.22.31.08'\n '10.43.22.26.06' '10.43.22.26.09' '10.43.22.26.12' '10.43.22.26.31'\n '10.43.22.26.26' '10.43.22.26.27' '10.43.22.26.39' '10.43.22.26.40'\n '10.43.22.32.01' '10.43.22.32.03' '10.43.22.32.04' '10.43.22.32.05']",
         "0.0",
         "-2658000000.0"
        ],
        [
         "48",
         "CSN Mineração",
         "cmin3",
         "https://www.csnmineracao.com.br",
         "CSN Mineração S.A. is a leading Brazilian mining company primarily focused on iron ore extraction and export. It is the second largest exporter of iron ore in Brazil and ranks among the top five globally in the transoceanic market. The company operates several mining sites including Casa de Pedra and Engenho, with significant iron ore reserves certified by international standards. Additionally, CSN Mineração manages a beneficiation complex at Pires, holds a participation in the MRS railway company, and operates a dedicated export terminal (TECAR) at the Port of Itaguaí. Their main products include granulated iron ore, sinter feed, pellet feed, and concentrate, serving clients across Asia, Europe, North America, and Brazil. The company offers integrated mining operations, processing, logistics via railway, and port terminal services to facilitate iron ore export. It is part of the CSN group and engaged in sustainable practices including independence from tailings dams and environmental responsibility.",
         "['18.11.10.17' '18.11.10.16.01']",
         "6117000000.0",
         "-5072000000.0"
        ],
        [
         "49",
         "Eneva",
         "enev3",
         "https://www.eneva.com.br",
         "Eneva is Brazil's largest private natural gas operator, integrated in energy, engaging in exploration, production, and supply of energy. Operating 15 natural gas fields across major Brazilian basins, it has the country's largest concession area. Eneva's generation capacity totals approximately 7.2 GW, including thermoelectric plants in several states and a significant solar energy complex. The company offers energy generation, natural gas exploration and production, energy commercialization, and technological innovation solutions. Eneva focuses on providing secure, efficient energy solutions supporting Brazil's energy transition with a diversified portfolio comprising thermal, renewable, natural gas, liquefied natural gas (LNG), and energy infrastructure projects. It is committed to sustainability, governance, research and development, and maintaining high ethical standards.",
         "['13.71.11' '13.71.13' '13.71.16.16.03' '13.71.16.16.06' '13.71.16.16.05']",
         "3901000000.0",
         "13520000000.0"
        ]
       ],
       "shape": {
        "columns": 7,
        "rows": 342
       }
      },
      "text/html": [
       "<div>\n",
       "<style scoped>\n",
       "    .dataframe tbody tr th:only-of-type {\n",
       "        vertical-align: middle;\n",
       "    }\n",
       "\n",
       "    .dataframe tbody tr th {\n",
       "        vertical-align: top;\n",
       "    }\n",
       "\n",
       "    .dataframe thead th {\n",
       "        text-align: right;\n",
       "    }\n",
       "</style>\n",
       "<table border=\"1\" class=\"dataframe\">\n",
       "  <thead>\n",
       "    <tr style=\"text-align: right;\">\n",
       "      <th></th>\n",
       "      <th>Nome</th>\n",
       "      <th>ticker</th>\n",
       "      <th>valor</th>\n",
       "      <th>resumo_final</th>\n",
       "      <th>codes_tags</th>\n",
       "      <th>ebitda_2024</th>\n",
       "      <th>dl_2024</th>\n",
       "    </tr>\n",
       "  </thead>\n",
       "  <tbody>\n",
       "    <tr>\n",
       "      <th>0</th>\n",
       "      <td>BRF</td>\n",
       "      <td>brfs3</td>\n",
       "      <td>https://www.brf-global.com</td>\n",
       "      <td>BRF is one of the largest food companies globa...</td>\n",
       "      <td>[12.50.19, 12.50.11.21, 12.50.11.22, 12.50.11....</td>\n",
       "      <td>8.846000e+09</td>\n",
       "      <td>8.681000e+09</td>\n",
       "    </tr>\n",
       "    <tr>\n",
       "      <th>1</th>\n",
       "      <td>B3</td>\n",
       "      <td>b3sa3</td>\n",
       "      <td>https://www.b3.com.br</td>\n",
       "      <td>B3 is a Brazilian company that operates as one...</td>\n",
       "      <td>[14.64.11.15, 14.64.11.17, 14.84.12.18.01, 14....</td>\n",
       "      <td>6.617000e+09</td>\n",
       "      <td>-7.200000e+07</td>\n",
       "    </tr>\n",
       "    <tr>\n",
       "      <th>2</th>\n",
       "      <td>Cogna</td>\n",
       "      <td>cogn3</td>\n",
       "      <td>https://www.cogna.com.br</td>\n",
       "      <td>Cogna Educação is a leading Brazilian educatio...</td>\n",
       "      <td>[11.86.13.20, 11.86.10.17, 11.86.11.16.02, 11....</td>\n",
       "      <td>1.809000e+09</td>\n",
       "      <td>5.541000e+09</td>\n",
       "    </tr>\n",
       "    <tr>\n",
       "      <th>3</th>\n",
       "      <td>Lojas Renner</td>\n",
       "      <td>lren3</td>\n",
       "      <td>https://www.lojasrennersa.com.br</td>\n",
       "      <td>Lojas Renner S.A. is the largest fashion and l...</td>\n",
       "      <td>[11.53.11, 11.56.14, 11.53.10.18, 11.53.10.17,...</td>\n",
       "      <td>2.503000e+09</td>\n",
       "      <td>-1.826000e+09</td>\n",
       "    </tr>\n",
       "    <tr>\n",
       "      <th>4</th>\n",
       "      <td>Banco Bradesco</td>\n",
       "      <td>bbdc4</td>\n",
       "      <td>https://www.bradesco.com.br</td>\n",
       "      <td>Bradesco is a financial services company based...</td>\n",
       "      <td>[14.84.12.15.01, 14.84.13.15.02, 14.84.13.15.0...</td>\n",
       "      <td>0.000000e+00</td>\n",
       "      <td>0.000000e+00</td>\n",
       "    </tr>\n",
       "    <tr>\n",
       "      <th>...</th>\n",
       "      <td>...</td>\n",
       "      <td>...</td>\n",
       "      <td>...</td>\n",
       "      <td>...</td>\n",
       "      <td>...</td>\n",
       "      <td>...</td>\n",
       "      <td>...</td>\n",
       "    </tr>\n",
       "    <tr>\n",
       "      <th>337</th>\n",
       "      <td>Iguatemi</td>\n",
       "      <td>igti4</td>\n",
       "      <td>https://www.jereissati.com.br</td>\n",
       "      <td>Iguatemi S.A. is a Brazilian company specializ...</td>\n",
       "      <td>[11.90.11, 19.95.12.21, 11.90.10.15, 19.95.12....</td>\n",
       "      <td>9.140000e+08</td>\n",
       "      <td>1.627000e+09</td>\n",
       "    </tr>\n",
       "    <tr>\n",
       "      <th>338</th>\n",
       "      <td>Iguatemi</td>\n",
       "      <td>igti4</td>\n",
       "      <td>https://www.jereissati.com.br</td>\n",
       "      <td>Iguatemi S.A. is a Brazilian company specializ...</td>\n",
       "      <td>[11.90.11, 19.95.12.21, 11.90.10.15, 19.95.12....</td>\n",
       "      <td>9.140000e+08</td>\n",
       "      <td>1.627000e+09</td>\n",
       "    </tr>\n",
       "    <tr>\n",
       "      <th>339</th>\n",
       "      <td>Iguatemi</td>\n",
       "      <td>igti4</td>\n",
       "      <td>https://www.jereissati.com.br</td>\n",
       "      <td>Iguatemi S.A. is a Brazilian company specializ...</td>\n",
       "      <td>[11.90.11, 19.95.12.21, 11.90.10.15, 19.95.12....</td>\n",
       "      <td>9.140000e+08</td>\n",
       "      <td>1.627000e+09</td>\n",
       "    </tr>\n",
       "    <tr>\n",
       "      <th>340</th>\n",
       "      <td>Iguatemi</td>\n",
       "      <td>igti4</td>\n",
       "      <td>https://www.jereissati.com.br</td>\n",
       "      <td>Iguatemi S.A. is a Brazilian company specializ...</td>\n",
       "      <td>[11.90.11, 19.95.12.21, 11.90.10.15, 19.95.12....</td>\n",
       "      <td>9.140000e+08</td>\n",
       "      <td>1.627000e+09</td>\n",
       "    </tr>\n",
       "    <tr>\n",
       "      <th>341</th>\n",
       "      <td>Iguatemi</td>\n",
       "      <td>igti4</td>\n",
       "      <td>https://www.jereissati.com.br</td>\n",
       "      <td>Iguatemi S.A. is a Brazilian company specializ...</td>\n",
       "      <td>[11.90.11, 19.95.12.21, 11.90.10.15, 19.95.12....</td>\n",
       "      <td>9.140000e+08</td>\n",
       "      <td>1.627000e+09</td>\n",
       "    </tr>\n",
       "  </tbody>\n",
       "</table>\n",
       "<p>342 rows × 7 columns</p>\n",
       "</div>"
      ],
      "text/plain": [
       "               Nome ticker                             valor  \\\n",
       "0               BRF  brfs3        https://www.brf-global.com   \n",
       "1                B3  b3sa3             https://www.b3.com.br   \n",
       "2             Cogna  cogn3          https://www.cogna.com.br   \n",
       "3      Lojas Renner  lren3  https://www.lojasrennersa.com.br   \n",
       "4    Banco Bradesco  bbdc4       https://www.bradesco.com.br   \n",
       "..              ...    ...                               ...   \n",
       "337        Iguatemi  igti4     https://www.jereissati.com.br   \n",
       "338        Iguatemi  igti4     https://www.jereissati.com.br   \n",
       "339        Iguatemi  igti4     https://www.jereissati.com.br   \n",
       "340        Iguatemi  igti4     https://www.jereissati.com.br   \n",
       "341        Iguatemi  igti4     https://www.jereissati.com.br   \n",
       "\n",
       "                                          resumo_final  \\\n",
       "0    BRF is one of the largest food companies globa...   \n",
       "1    B3 is a Brazilian company that operates as one...   \n",
       "2    Cogna Educação is a leading Brazilian educatio...   \n",
       "3    Lojas Renner S.A. is the largest fashion and l...   \n",
       "4    Bradesco is a financial services company based...   \n",
       "..                                                 ...   \n",
       "337  Iguatemi S.A. is a Brazilian company specializ...   \n",
       "338  Iguatemi S.A. is a Brazilian company specializ...   \n",
       "339  Iguatemi S.A. is a Brazilian company specializ...   \n",
       "340  Iguatemi S.A. is a Brazilian company specializ...   \n",
       "341  Iguatemi S.A. is a Brazilian company specializ...   \n",
       "\n",
       "                                            codes_tags   ebitda_2024  \\\n",
       "0    [12.50.19, 12.50.11.21, 12.50.11.22, 12.50.11....  8.846000e+09   \n",
       "1    [14.64.11.15, 14.64.11.17, 14.84.12.18.01, 14....  6.617000e+09   \n",
       "2    [11.86.13.20, 11.86.10.17, 11.86.11.16.02, 11....  1.809000e+09   \n",
       "3    [11.53.11, 11.56.14, 11.53.10.18, 11.53.10.17,...  2.503000e+09   \n",
       "4    [14.84.12.15.01, 14.84.13.15.02, 14.84.13.15.0...  0.000000e+00   \n",
       "..                                                 ...           ...   \n",
       "337  [11.90.11, 19.95.12.21, 11.90.10.15, 19.95.12....  9.140000e+08   \n",
       "338  [11.90.11, 19.95.12.21, 11.90.10.15, 19.95.12....  9.140000e+08   \n",
       "339  [11.90.11, 19.95.12.21, 11.90.10.15, 19.95.12....  9.140000e+08   \n",
       "340  [11.90.11, 19.95.12.21, 11.90.10.15, 19.95.12....  9.140000e+08   \n",
       "341  [11.90.11, 19.95.12.21, 11.90.10.15, 19.95.12....  9.140000e+08   \n",
       "\n",
       "          dl_2024  \n",
       "0    8.681000e+09  \n",
       "1   -7.200000e+07  \n",
       "2    5.541000e+09  \n",
       "3   -1.826000e+09  \n",
       "4    0.000000e+00  \n",
       "..            ...  \n",
       "337  1.627000e+09  \n",
       "338  1.627000e+09  \n",
       "339  1.627000e+09  \n",
       "340  1.627000e+09  \n",
       "341  1.627000e+09  \n",
       "\n",
       "[342 rows x 7 columns]"
      ]
     },
     "execution_count": 10,
     "metadata": {},
     "output_type": "execute_result"
    }
   ],
   "source": [
    "final_buyers.merge(\n",
    "    ebitdas[['ticker', 'ebitda_2024']],\n",
    "    left_on='ticker',\n",
    "    right_on='ticker',\n",
    "    how='left'\n",
    ").merge(\n",
    "    dl[['ticker', 'dl_2024']],\n",
    "    left_on='ticker',\n",
    "    right_on='ticker',\n",
    "    how='left'\n",
    ")"
   ]
  },
  {
   "cell_type": "code",
   "execution_count": 15,
   "id": "0f6a2788",
   "metadata": {},
   "outputs": [
    {
     "data": {
      "application/vnd.microsoft.datawrangler.viewer.v0+json": {
       "columns": [
        {
         "name": "index",
         "rawType": "int64",
         "type": "integer"
        },
        {
         "name": "tag1",
         "rawType": "object",
         "type": "string"
        },
        {
         "name": "tag2",
         "rawType": "object",
         "type": "string"
        },
        {
         "name": "tag3",
         "rawType": "object",
         "type": "string"
        },
        {
         "name": "tag4",
         "rawType": "object",
         "type": "string"
        },
        {
         "name": "tag5",
         "rawType": "object",
         "type": "string"
        }
       ],
       "ref": "d40c35d4-f853-4129-982b-03eea46a8cc9",
       "rows": [
        [
         "0",
         "Consumer Staples",
         "Food and Beverage Products",
         "Meat and poultry products",
         "Non gmo processed meat and poultry products",
         ""
        ],
        [
         "1",
         "Consumer Staples",
         "Food and Beverage Products",
         "Meat and poultry products",
         "Organic processed meat and poultry products",
         ""
        ],
        [
         "2",
         "Consumer Staples",
         "Food and Beverage Products",
         "Meat and poultry products",
         "Processed meat and poultry products",
         "Chicken, processed with additions"
        ],
        [
         "3",
         "Consumer Staples",
         "Food and Beverage Products",
         "Meat and poultry products",
         "Processed meat and poultry products",
         "Pork, processed with additions"
        ],
        [
         "4",
         "Consumer Staples",
         "Food and Beverage Products",
         "Meat and poultry products",
         "Processed meat and poultry products",
         "Turkey, processed with additions"
        ],
        [
         "5",
         "Consumer Staples",
         "Food and Beverage Products",
         "Meat and poultry products",
         "Processed meat and poultry products",
         "Specialty poultry, processed with additions"
        ],
        [
         "6",
         "Consumer Staples",
         "Food and Beverage Products",
         "Meat and poultry products",
         "Processed meat and poultry products",
         "Mixed species meat, processed with additions"
        ],
        [
         "7",
         "Consumer Staples",
         "Food and Beverage Products",
         "Prepared and preserved foods",
         "",
         ""
        ]
       ],
       "shape": {
        "columns": 5,
        "rows": 8
       }
      },
      "text/html": [
       "<div>\n",
       "<style scoped>\n",
       "    .dataframe tbody tr th:only-of-type {\n",
       "        vertical-align: middle;\n",
       "    }\n",
       "\n",
       "    .dataframe tbody tr th {\n",
       "        vertical-align: top;\n",
       "    }\n",
       "\n",
       "    .dataframe thead th {\n",
       "        text-align: right;\n",
       "    }\n",
       "</style>\n",
       "<table border=\"1\" class=\"dataframe\">\n",
       "  <thead>\n",
       "    <tr style=\"text-align: right;\">\n",
       "      <th></th>\n",
       "      <th>tag1</th>\n",
       "      <th>tag2</th>\n",
       "      <th>tag3</th>\n",
       "      <th>tag4</th>\n",
       "      <th>tag5</th>\n",
       "    </tr>\n",
       "  </thead>\n",
       "  <tbody>\n",
       "    <tr>\n",
       "      <th>0</th>\n",
       "      <td>Consumer Staples</td>\n",
       "      <td>Food and Beverage Products</td>\n",
       "      <td>Meat and poultry products</td>\n",
       "      <td>Non gmo processed meat and poultry products</td>\n",
       "      <td></td>\n",
       "    </tr>\n",
       "    <tr>\n",
       "      <th>1</th>\n",
       "      <td>Consumer Staples</td>\n",
       "      <td>Food and Beverage Products</td>\n",
       "      <td>Meat and poultry products</td>\n",
       "      <td>Organic processed meat and poultry products</td>\n",
       "      <td></td>\n",
       "    </tr>\n",
       "    <tr>\n",
       "      <th>2</th>\n",
       "      <td>Consumer Staples</td>\n",
       "      <td>Food and Beverage Products</td>\n",
       "      <td>Meat and poultry products</td>\n",
       "      <td>Processed meat and poultry products</td>\n",
       "      <td>Chicken, processed with additions</td>\n",
       "    </tr>\n",
       "    <tr>\n",
       "      <th>3</th>\n",
       "      <td>Consumer Staples</td>\n",
       "      <td>Food and Beverage Products</td>\n",
       "      <td>Meat and poultry products</td>\n",
       "      <td>Processed meat and poultry products</td>\n",
       "      <td>Pork, processed with additions</td>\n",
       "    </tr>\n",
       "    <tr>\n",
       "      <th>4</th>\n",
       "      <td>Consumer Staples</td>\n",
       "      <td>Food and Beverage Products</td>\n",
       "      <td>Meat and poultry products</td>\n",
       "      <td>Processed meat and poultry products</td>\n",
       "      <td>Turkey, processed with additions</td>\n",
       "    </tr>\n",
       "    <tr>\n",
       "      <th>5</th>\n",
       "      <td>Consumer Staples</td>\n",
       "      <td>Food and Beverage Products</td>\n",
       "      <td>Meat and poultry products</td>\n",
       "      <td>Processed meat and poultry products</td>\n",
       "      <td>Specialty poultry, processed with additions</td>\n",
       "    </tr>\n",
       "    <tr>\n",
       "      <th>6</th>\n",
       "      <td>Consumer Staples</td>\n",
       "      <td>Food and Beverage Products</td>\n",
       "      <td>Meat and poultry products</td>\n",
       "      <td>Processed meat and poultry products</td>\n",
       "      <td>Mixed species meat, processed with additions</td>\n",
       "    </tr>\n",
       "    <tr>\n",
       "      <th>7</th>\n",
       "      <td>Consumer Staples</td>\n",
       "      <td>Food and Beverage Products</td>\n",
       "      <td>Prepared and preserved foods</td>\n",
       "      <td></td>\n",
       "      <td></td>\n",
       "    </tr>\n",
       "  </tbody>\n",
       "</table>\n",
       "</div>"
      ],
      "text/plain": [
       "               tag1                        tag2                          tag3  \\\n",
       "0  Consumer Staples  Food and Beverage Products     Meat and poultry products   \n",
       "1  Consumer Staples  Food and Beverage Products     Meat and poultry products   \n",
       "2  Consumer Staples  Food and Beverage Products     Meat and poultry products   \n",
       "3  Consumer Staples  Food and Beverage Products     Meat and poultry products   \n",
       "4  Consumer Staples  Food and Beverage Products     Meat and poultry products   \n",
       "5  Consumer Staples  Food and Beverage Products     Meat and poultry products   \n",
       "6  Consumer Staples  Food and Beverage Products     Meat and poultry products   \n",
       "7  Consumer Staples  Food and Beverage Products  Prepared and preserved foods   \n",
       "\n",
       "                                          tag4  \\\n",
       "0  Non gmo processed meat and poultry products   \n",
       "1  Organic processed meat and poultry products   \n",
       "2          Processed meat and poultry products   \n",
       "3          Processed meat and poultry products   \n",
       "4          Processed meat and poultry products   \n",
       "5          Processed meat and poultry products   \n",
       "6          Processed meat and poultry products   \n",
       "7                                                \n",
       "\n",
       "                                           tag5  \n",
       "0                                                \n",
       "1                                                \n",
       "2             Chicken, processed with additions  \n",
       "3                Pork, processed with additions  \n",
       "4              Turkey, processed with additions  \n",
       "5   Specialty poultry, processed with additions  \n",
       "6  Mixed species meat, processed with additions  \n",
       "7                                                "
      ]
     },
     "execution_count": 15,
     "metadata": {},
     "output_type": "execute_result"
    }
   ],
   "source": [
    "from utils import build_codes_df\n",
    "\n",
    "\n",
    "build_codes_df(['12.50.19', '12.50.11.21', '12.50.11.22', '12.50.11.20.11', '12.50.11.20.09',\n",
    " '12.50.11.20.13', '12.50.11.20.21', '12.50.11.20.23'], un_tags)"
   ]
  }
 ],
 "metadata": {
  "kernelspec": {
   "display_name": ".venv (3.13.7)",
   "language": "python",
   "name": "python3"
  },
  "language_info": {
   "codemirror_mode": {
    "name": "ipython",
    "version": 3
   },
   "file_extension": ".py",
   "mimetype": "text/x-python",
   "name": "python",
   "nbconvert_exporter": "python",
   "pygments_lexer": "ipython3",
   "version": "3.13.7"
  }
 },
 "nbformat": 4,
 "nbformat_minor": 5
}
