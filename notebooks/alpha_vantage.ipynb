{
 "cells": [
  {
   "cell_type": "code",
   "execution_count": 60,
   "id": "54fe38bd",
   "metadata": {},
   "outputs": [],
   "source": [
    "import requests\n",
    "from datetime import datetime, timedelta\n",
    "\n",
    "API_KEY = \"UIMMZEPDSANO86K4\"\n",
    "BASE_URL = \"https://www.alphavantage.co/query\"\n",
    "symbol = \"PETZ\""
   ]
  },
  {
   "cell_type": "code",
   "execution_count": 70,
   "id": "05cbd797",
   "metadata": {},
   "outputs": [
    {
     "name": "stdout",
     "output_type": "stream",
     "text": [
      "2025-06-27 20:26:44 — C: JBS USA Food Company Announces Pricing of Tender Offer for Any and All of Its 2.500% Senior Notes Due 2027 : https://www.benzinga.com/pressreleases/25/06/g46153219/jbs-usa-food-company-announces-pricing-of-tender-offer-for-any-and-all-of-its-2-500-senior-notes-d\n",
      "2025-06-27 11:30:00 — TSBX: Turnstone Biologics Corp. Enters into Agreement to be Acquired by XOMA Royalty Corporation for $0.34 in Cash Per Share Plus a Contingent Value Right : https://www.globenewswire.com/news-release/2025/06/27/3106487/7281/en/Turnstone-Biologics-Corp-Enters-into-Agreement-to-be-Acquired-by-XOMA-Royalty-Corporation-for-0-34-in-Cash-Per-Share-Plus-a-Contingent-Value-Right.html\n",
      "2025-06-27 11:30:00 — TSBX: Turnstone Biologics Corp. Enters into Agreement to be Acquired by XOMA Royalty Corporation for $0.34 in Cash Per Share Plus a Contingent Value Right - Turnstone Biologics  ( NASDAQ:TSBX ) , XOMA Royalty  ( NASDAQ:XOMA )  : https://www.benzinga.com/pressreleases/25/06/g46136246/turnstone-biologics-corp-enters-into-agreement-to-be-acquired-by-xoma-royalty-corporation-for-0-34\n",
      "2025-06-27 16:10:14 — LLY: BRODSKY & SMITH SHAREHOLDER UPDATE: Notifying Investors of the Following Investigations: Verve Therapeutics, Inc.  ( Nasdaq - VERV ) , Sage Therapeutics, Inc.  ( Nasdaq - SAGE ) , Cantaloupe, Inc.  ( Nasdaq - CTLP ) , Volato Group, Inc.  ( NYSE American - SOAR )  : https://www.benzinga.com/pressreleases/25/06/g46145756/brodsky-smith-shareholder-update-notifying-investors-of-the-following-investigations-verve-therape\n",
      "2025-06-27 15:46:07 — GBCI: BRODSKY & SMITH SHAREHOLDER UPDATE: Notifying Investors of the Following Investigations: Carisma Therapeutics Inc.  ( Nasdaq - CARM ) , Guaranty Bancshares, Inc.  ( NYSE - GNTY ) , MRC Global Inc.  ( NYSE - MRC ) , Turnstone Biologics Corp.  ( Nasdaq - TSBX )  : https://www.benzinga.com/pressreleases/25/06/g46144991/brodsky-smith-shareholder-update-notifying-investors-of-the-following-investigations-carisma-thera\n",
      "2025-06-27 12:00:00 — FUJHF: Dave Cantin Group Facilitates Two California Dealership Transactions in One Week Amid Acceleration in Automotive M&A Activity : https://www.benzinga.com/pressreleases/25/06/g46136779/dave-cantin-group-facilitates-two-california-dealership-transactions-in-one-week-amid-acceleration\n",
      "2025-06-27 13:24:00 — GS: Goldman Stock Surges Over 57% in a Year: Is There Still Room to Run? : https://www.zacks.com/stock/news/2556112/goldman-stock-surges-over-57-in-a-year-is-there-still-room-to-run\n",
      "2025-06-27 08:27:00 — CNC: Zacks Industry Outlook Highlights Cigna, Humana, Centene and Molina Healthcare : https://www.zacks.com/stock/news/2555570/zacks-industry-outlook-highlights-cigna-humana-centene-and-molina-healthcare\n",
      "2025-06-27 20:01:00 — ALIZF: PIMCO Closed-End Funds Announce Shareholder Approval of Issuance of Common Shares in Proposed Reorganizations - PIMCO CA Muni Income Fund  ( NYSE:PCK ) , PIMCO California  ( NYSE:PCQ )  : https://www.benzinga.com/pressreleases/25/06/g46151980/pimco-closed-end-funds-announce-shareholder-approval-of-issuance-of-common-shares-in-proposed-reor\n",
      "2025-06-27 18:32:18 — CRYPTO:BTC: Bitcoin, XRP, SOL futures launch on Robinhood : https://cointelegraph.com/news/robinhood-launches-bitcoin-solana-xrp-micro-futures\n",
      "2025-06-27 14:17:38 — MCO: Healthcare AI Draws Major Funding, Bucking Market Uncertainty : https://www.benzinga.com/general/health-care/25/06/46140911/healthcare-ai-draws-major-funding-bucking-market-uncertainty\n",
      "2025-06-26 21:14:45 — CEG: Meta hires former OpenAI top talent amid AGI push : https://cointelegraph.com/news/meta-hires-former-openai-top-talent-agi-push\n",
      "2025-06-27 13:55:24 — RFGPF: GlassRatner Acquired by TorQuest Partners, Reestablishes Itself as an Independent Brand : https://www.benzinga.com/pressreleases/25/06/g46139871/glassratner-acquired-by-torquest-partners-reestablishes-itself-as-an-independent-brand\n",
      "2025-06-27 12:00:00 — TURN: 180 Degree Capital Corp. Amends Election of Director Special Meeting Date Pursuant to Shareholder Demand Under New York Business Law - 180 Degree Capital  ( NASDAQ:TURN )  : https://www.benzinga.com/pressreleases/25/06/g46136781/180-degree-capital-corp-amends-election-of-director-special-meeting-date-pursuant-to-shareholder-d\n",
      "Erro ao processar item: {'title': '*Assembly Required & GoHero Bring the First-Ever \"The Designer Toy Art Festival\" to Philadelphia, August 1-10', 'url': 'https://www.benzinga.com/pressreleases/25/06/r46136163/assembly-required-gohero-bring-the-first-ever-the-designer-toy-art-festival-to-philadelphia-august', 'time_published': '20250627T111409', 'authors': ['PR.com'], 'summary': 'Philadelphia, PA June 27, 2025 -- ( PR.com ) -- This summer, *Assembly Required brings the cutting edge of independent toy art and creative culture to Philadelphia with the Designer Toy Art Festival.', 'banner_image': 'https://www.benzinga.com/next-assets/images/schema-image-default.png', 'source': 'Benzinga', 'category_within_source': 'News', 'source_domain': 'www.benzinga.com', 'topics': [{'topic': 'Mergers & Acquisitions', 'relevance_score': '0.310843'}], 'overall_sentiment_score': 0.384735, 'overall_sentiment_label': 'Bullish', 'ticker_sentiment': []}\n",
      "2025-06-26 19:05:02 — CORZQ: Core Scientific shares soar as CoreWeave revives buyout talks : https://cointelegraph.com/news/coreweave-core-scientific-takeover-talks-bitcoin-mining-ai\n",
      "2025-06-27 18:43:19 — BAC: Nvidia Is Acquiring Its Way Into AI - NVIDIA  ( NASDAQ:NVDA )  : https://www.benzinga.com/m-a/25/06/46149909/nvidia-ai-acquisition\n",
      "2025-06-27 13:28:00 — SHOT: Safety Shot Completes Acquisition of Yerbae Brands Corp. : https://www.globenewswire.com/news-release/2025/06/27/3106609/0/en/Safety-Shot-Completes-Acquisition-of-Yerbae-Brands-Corp.html\n",
      "Erro ao processar item: {'title': 'VitalHub Announces Results of Annual General Meeting of Shareholders', 'url': 'https://www.globenewswire.com/news-release/2025/06/27/3106845/0/en/VitalHub-Announces-Results-of-Annual-General-Meeting-of-Shareholders.html', 'time_published': '20250627T203000', 'authors': ['Vitalhub Corp.'], 'summary': 'TORONTO, June 27, 2025 ( GLOBE NEWSWIRE ) -- Vitalhub Corp. ( TSX:VHI ) ( OTCQX:VHIBF ) ( the \"Company\" or \"VitalHub\" ) announced today the voting results from its annual general meeting of shareholders held virtually on June 27, 2025. All director nominees were elected to the Company\\'s board of ...', 'banner_image': 'https://ml.globenewswire.com/Resource/Download/fae8da93-7d5e-4eb4-9121-d724c8555bce', 'source': 'GlobeNewswire', 'category_within_source': 'n/a', 'source_domain': 'www.globenewswire.com', 'topics': [{'topic': 'Mergers & Acquisitions', 'relevance_score': '0.158519'}], 'overall_sentiment_score': 0.204611, 'overall_sentiment_label': 'Somewhat-Bullish', 'ticker_sentiment': []}\n",
      "Erro ao processar item: {'title': 'Quantum BioPharma Announces Private Placement', 'url': 'https://www.globenewswire.com/news-release/2025/06/27/3106841/0/en/Quantum-BioPharma-Announces-Private-Placement.html', 'time_published': '20250627T203000', 'authors': ['Quantum BioPharma'], 'summary': 'TORONTO, June 27, 2025 ( GLOBE NEWSWIRE ) -- Quantum BioPharma Ltd. ( NASDAQ: QNTM ) ( CSE: QNTM ) ( FRA: 0K91 ) ( \"Quantum BioPharma\" or the \"Company\" ) , a biopharmaceutical company dedicated to building a portfolio of innovative assets and biotech solutions, is pleased to announce that it is ...', 'banner_image': 'https://ml.globenewswire.com/Resource/Download/8b9aab62-d5e1-47c2-a1ce-834c390552e6', 'source': 'GlobeNewswire', 'category_within_source': 'n/a', 'source_domain': 'www.globenewswire.com', 'topics': [{'topic': 'Economy - Monetary', 'relevance_score': '0.158519'}, {'topic': 'Financial Markets', 'relevance_score': '0.928769'}, {'topic': 'Mergers & Acquisitions', 'relevance_score': '0.158519'}, {'topic': 'Economy - Macro', 'relevance_score': '0.158519'}], 'overall_sentiment_score': 0.177421, 'overall_sentiment_label': 'Somewhat-Bullish', 'ticker_sentiment': []}\n",
      "Erro ao processar item: {'title': 'Quantum BioPharma Announces Private Placement - Quantum BioPharma  ( NASDAQ:QNTM ) ', 'url': 'https://www.benzinga.com/pressreleases/25/06/g46153561/quantum-biopharma-announces-private-placement', 'time_published': '20250627T203000', 'authors': ['Globe Newswire'], 'summary': 'TORONTO, June 27, 2025 ( GLOBE NEWSWIRE ) -- Quantum BioPharma Ltd.', 'banner_image': 'https://www.benzinga.com/next-assets/images/schema-image-default.png', 'source': 'Benzinga', 'category_within_source': 'News', 'source_domain': 'www.benzinga.com', 'topics': [{'topic': 'Economy - Monetary', 'relevance_score': '0.158519'}, {'topic': 'Financial Markets', 'relevance_score': '0.980716'}, {'topic': 'Mergers & Acquisitions', 'relevance_score': '0.158519'}, {'topic': 'Economy - Macro', 'relevance_score': '0.158519'}], 'overall_sentiment_score': 0.179544, 'overall_sentiment_label': 'Somewhat-Bullish', 'ticker_sentiment': []}\n",
      "2025-06-27 19:25:56 — MTAL: Welsbach Technology Metals Acquisition Corp.  ( \"WTMA\" )  Announces Successful Approval for its Business Combination with Evolution Metals LLC  ( \"EM\" )  from the Extraordinary General Meeting of Stockholders on June 26, 2025 - WELSBACH TECH METALS UTS by Welsbach Technology Metals Acquisition Corp.  ( OTC:WTMAU ) , Welsbach Tech Metals Acq  ( OTC:WTMA )  : https://www.benzinga.com/pressreleases/25/06/g46151045/welsbach-technology-metals-acquisition-corp-wtma-announces-successful-approval-for-its-business-co\n",
      "2025-06-27 19:25:00 — MTAL: Welsbach Technology Metals Acquisition Corp.  ( \"WTMA\" )  Announces Successful Approval for its Business Combination with Evolution Metals LLC  ( \"EM\" )  from the Extraordinary General Meeting of Stockholders on June 26, 2025 : https://www.globenewswire.com/news-release/2025/06/27/3106788/0/en/Welsbach-Technology-Metals-Acquisition-Corp-WTMA-Announces-Successful-Approval-for-its-Business-Combination-with-Evolution-Metals-LLC-EM-from-the-Extraordinary-General-Meeting-of-S.html\n",
      "2025-06-27 17:36:13 — DKNG: Online Gambling Giants Keep Beating The Odds, Even As Tax Crackdown Looms - DraftKings  ( NASDAQ:DKNG ) , Flutter Entertainment  ( NYSE:FLUT )  : https://www.benzinga.com/analyst-stock-ratings/analyst-color/25/06/46148241/online-gambling-giants-keep-beating-the-odds-even-as-tax-crackdown-looms\n",
      "2025-06-27 15:03:00 — AMZN: Meet a Little-Known Stock That's Outperforming Amazon and Tesla Since Going Public 2 Years Ago : https://www.fool.com/investing/2025/06/27/meet-a-little-known-stock-outperforming-amazon/\n",
      "2025-06-27 14:08:00 — LLY: AbbVie Adds More Than $24B in 6 Months: How to Play ABBV Stock : https://www.zacks.com/stock/news/2556093/abbvie-adds-more-than-24b-in-6-months-how-to-play-abbv-stock\n",
      "2025-06-27 11:00:12 — BCRX: BioCryst Announces Sale of European ORLADEYO®  ( berotralstat )  Business to Neopharmed Gentili for up to $264 Million - BioCryst Pharma  ( NASDAQ:BCRX )  : https://www.benzinga.com/pressreleases/25/06/g46135746/biocryst-announces-sale-of-european-orladeyo-berotralstat-business-to-neopharmed-gentili-for-up-to\n",
      "2025-06-27 11:00:00 — BCRX: BioCryst Announces Sale of European ORLADEYO®  ( berotralstat )  Business to Neopharmed Gentili for up to $264 Million : https://www.globenewswire.com/news-release/2025/06/27/3106473/29446/en/BioCryst-Announces-Sale-of-European-ORLADEYO-berotralstat-Business-to-Neopharmed-Gentili-for-up-to-264-Million.html\n",
      "2025-06-27 09:37:28 — CME: 3 signs that XRP price will soon break out after 4-month consolidation : https://cointelegraph.com/news/xrp-price-will-soon-break-out-after-4-month-consolidation\n",
      "2025-06-27 09:30:08 — SSNLF: Anker partners with Apple battery supplier ATL after massive power bank recall : https://www.scmp.com/tech/tech-trends/article/3316099/anker-partners-apple-battery-supplier-atl-after-massive-power-bank-recall\n",
      "2025-06-27 04:00:04 — MCO: Inside the private equity-insurance nexus : https://www.ft.com/content/ee40241a-c568-4673-88df-001c0244fb37\n",
      "2025-06-27 00:33:00 — GOOG: This Weight Loss Partnership Was a Short One : https://www.fool.com/investing/2025/06/26/this-weight-loss-partnership-was-a-short-one/\n",
      "2025-06-26 20:30:00 — EPAC: Enerpac Tool Group Reports Third Quarter Fiscal 2025 Results : https://www.globenewswire.com/news-release/2025/06/26/3106243/0/en/Enerpac-Tool-Group-Reports-Third-Quarter-Fiscal-2025-Results.html\n",
      "2025-06-26 20:19:18 — EADSF: Why Airbus Stock Popped Thursday : https://www.fool.com/investing/2025/06/26/why-airbus-stock-popped-thursday/\n",
      "2025-06-26 20:05:38 — ALTO: Alto Ingredients, Inc. Names Gilbert Nathan Chair, Dianne Nury Vice-Chair and Elects Two New Directors - Alto Ingredients  ( NASDAQ:ALTO )  : https://www.benzinga.com/pressreleases/25/06/g46127384/alto-ingredients-inc-names-gilbert-nathan-chair-dianne-nury-vice-chair-and-elects-two-new-director\n",
      "2025-06-26 20:05:00 — ALTO: Alto Ingredients, Inc. Names Gilbert Nathan Chair, Dianne Nury Vice-Chair and Elects Two New Directors : https://www.globenewswire.com/news-release/2025/06/26/3106224/11185/en/Alto-Ingredients-Inc-Names-Gilbert-Nathan-Chair-Dianne-Nury-Vice-Chair-and-Elects-Two-New-Directors.html\n",
      "2025-06-27 19:04:05 — SRPT: Gainey McKenna & Egleston Announces A Class Action Lawsuit Has Been Filed Against Sarepta Therapeutics, Inc.  ( SRPT )  - Sarepta Therapeutics  ( NASDAQ:SRPT )  : https://www.benzinga.com/pressreleases/25/06/g46150551/gainey-mckenna-egleston-announces-a-class-action-lawsuit-has-been-filed-against-sarepta-therapeuti\n",
      "2025-06-27 15:30:00 — DNBBF: Scatec ASA: Completed share buyback for Employee Share Purchase Programme : https://www.globenewswire.com/news-release/2025/06/27/3106700/0/en/Scatec-ASA-Completed-share-buyback-for-Employee-Share-Purchase-Programme.html\n",
      "2025-06-27 15:30:00 — DNBBF: Scatec ASA: Completed share buyback for Employee Share Purchase Programme : https://www.benzinga.com/pressreleases/25/06/g46144267/scatec-asa-completed-share-buyback-for-employee-share-purchase-programme\n",
      "2025-06-27 15:06:00 — TSCDF: Barclays vs. HSBC: Which Global Bank is the Smarter Buy Today? : https://www.zacks.com/stock/news/2556162/barclays-vs-hsbc-which-global-bank-is-the-smarter-buy-today\n",
      "2025-06-27 15:03:00 — CVNA: How Close is Carvana to Reaching Its Long-Term Annual Sales Target? : https://www.zacks.com/stock/news/2556160/how-close-is-carvana-to-reaching-its-long-term-annual-sales-target\n",
      "2025-06-27 14:36:40 — MEOH: Methanex Corporation Completes Acquisition of OCI Global's Methanol Business - Methanex  ( NASDAQ:MEOH )  : https://www.benzinga.com/pressreleases/25/06/g46141965/methanex-corporation-completes-acquisition-of-oci-globals-methanol-business\n",
      "2025-06-27 14:36:00 — MEOH: Methanex Corporation Completes Acquisition of OCI Global's Methanol Business : https://www.globenewswire.com/news-release/2025/06/27/3106658/0/en/Methanex-Corporation-Completes-Acquisition-of-OCI-Global-s-Methanol-Business.html\n",
      "2025-06-27 14:04:00 — ENPH: PTC Unveils Arena SCI for Resilient Product Development : https://www.zacks.com/stock/news/2556091/ptc-unveils-arena-sci-for-resilient-product-development\n",
      "2025-06-27 13:42:51 — RCKT: Rocket Pharmaceuticals, Inc.  ( RCKT )  Securities Fraud Class Action Lawsuit Pending: Contact Wolf Haldenstein Before August 11, 2025 to Discuss Your Rights - Rocket Pharmaceuticals  ( NASDAQ:RCKT )  : https://www.benzinga.com/pressreleases/25/06/g46139298/rocket-pharmaceuticals-inc-rckt-securities-fraud-class-action-lawsuit-pending-contact-wolf-haldens\n",
      "2025-06-27 12:23:00 — C: BLK Seeks to Provide Access to Private Markets to Retirement Savers : https://www.zacks.com/stock/news/2555744/blk-seeks-to-provide-access-to-private-markets-to-retirement-savers\n",
      "2025-06-26 21:30:00 — SULMF: Sulliden Acquires 48% of Nickel, Zinc, and Lead Mining Exploration Project in Poland : https://www.benzinga.com/pressreleases/25/06/g46129455/sulliden-acquires-48-of-nickel-zinc-and-lead-mining-exploration-project-in-poland\n",
      "2025-06-26 21:30:00 — SULMF: Sulliden Acquires 48% of Nickel, Zinc, and Lead Mining Exploration Project in Poland : https://www.globenewswire.com/news-release/2025/06/26/3106299/0/en/Sulliden-Acquires-48-of-Nickel-Zinc-and-Lead-Mining-Exploration-Project-in-Poland.html\n",
      "2025-06-26 18:46:29 — HIMS: Gainey McKenna & Egleston Announces A Class Action Lawsuit Has Been Filed Against Hims & Hers Health, Inc.  ( HIMS )  - Hims & Hers Health  ( NYSE:HIMS )  : https://www.benzinga.com/pressreleases/25/06/g46124756/gainey-mckenna-egleston-announces-a-class-action-lawsuit-has-been-filed-against-hims-hers-health-i\n",
      "2025-06-26 17:48:55 — META: Deadline Alert: Civitas Resources, Inc.  ( CIVI )  Investors Who Lost Money Urged To Contact Glancy Prongay & Murray LLP About Securities Fraud Lawsuit - Civitas Resources  ( NYSE:CIVI )  : https://www.benzinga.com/pressreleases/25/06/g46123195/deadline-alert-civitas-resources-inc-civi-investors-who-lost-money-urged-to-contact-glancy-prongay\n"
     ]
    }
   ],
   "source": [
    "hoje = datetime.now()\n",
    "tres_anos_atras = hoje - timedelta(days=3*365)\n",
    "time_from = tres_anos_atras.strftime(\"%Y%m%dT%H%M\")\n",
    "time_to = hoje.strftime(\"%Y%m%dT%H%M\")\n",
    "\n",
    "params = {\n",
    "    \"function\": \"NEWS_SENTIMENT\",\n",
    "    \"tickers\": symbol,\n",
    "    \"topics\": \"mergers_and_acquisitions\",\n",
    "    \"time_from\": \"20220410T0130\",\n",
    "    # \"time_to\": time_to,\n",
    "    \"sort\": \"RELEVANT\",\n",
    "    \"apikey\": API_KEY\n",
    "}\n",
    "\n",
    "resp = requests.get(f'{BASE_URL}?function={params['function']}&topics={params['topics']}&time_from={params['time_from']}&apikey={params['apikey']}')\n",
    "data = resp.json()\n",
    "\n",
    "if \"feed\" in data:\n",
    "    for item in data[\"feed\"]:\n",
    "        try:\n",
    "            print(f\"{datetime.strptime(item['time_published'], \"%Y%m%dT%H%M%S\")} — {item['ticker_sentiment'][0]['ticker']}: {item['title']} : {item['url']}\")\n",
    "        except IndexError as e:\n",
    "            print(f\"Erro ao processar item: {item}\")\n",
    "else:\n",
    "    print(\"Nenhum resultado encontrado ou limite de chamadas excedido.\")\n"
   ]
  },
  {
   "cell_type": "code",
   "execution_count": 55,
   "id": "2e5d54a5",
   "metadata": {},
   "outputs": [
    {
     "data": {
      "text/plain": [
       "'VALE0.617188Bullish'"
      ]
     },
     "execution_count": 55,
     "metadata": {},
     "output_type": "execute_result"
    }
   ],
   "source": [
    "data[\"feed\"][0]['ticker_sentiment'][0]['ticker'] + data[\"feed\"][0]['ticker_sentiment'][0]['relevance_score'] + data[\"feed\"][0]['ticker_sentiment'][0]['ticker_sentiment_label']"
   ]
  },
  {
   "cell_type": "code",
   "execution_count": 35,
   "id": "5bdc70bb",
   "metadata": {},
   "outputs": [
    {
     "name": "stdout",
     "output_type": "stream",
     "text": [
      "2025-06-25 22:00:03 — VALE: VALE S.A.  ( VALE )  Stock Moves -1.63%: What You Should Know\n",
      "2025-06-23 22:15:03 — VALE: VALE S.A.  ( VALE )  Laps the Stock Market: Here's Why\n",
      "2025-06-17 22:00:03 — VALE: VALE S.A.  ( VALE )  Sees a More Significant Dip Than Broader Market: Some Facts to Know\n",
      "2025-06-17 13:30:02 — VALE: Is It Worth Investing in VALE  ( VALE )  Based on Wall Street's Bullish Views?\n",
      "2025-06-12 13:00:03 — VALE: VALE S.A.  ( VALE )  is Attracting Investor Attention: Here is What You Should Know\n",
      "2025-06-02 22:00:03 — VALE: VALE S.A.  ( VALE )  Outperforms Broader Market: What You Need to Know\n",
      "2025-05-22 13:00:08 — VALE: VALE S.A.  ( VALE )  Is a Trending Stock: Facts to Know Before Betting on It\n",
      "2025-04-30 13:00:09 — VALE: Investors Heavily Search VALE S.A.  ( VALE ) : Here is What You Need to Know\n",
      "2025-04-28 14:26:00 — SCCO: Vale Q1 Revenues & Earnings Miss Estimates on Lower Iron Ore Prices\n",
      "2025-04-22 12:09:00 — CF: Vale to Report Q1 Earnings: What's in Store for the Stock?\n",
      "2025-04-21 13:54:00 — VALE: Vale Q1 Iron Ore Production Declines Y/Y While Copper & Nickel Rise\n",
      "2025-04-17 13:00:08 — VALE: VALE S.A.  ( VALE )  is Attracting Investor Attention: Here is What You Should Know\n",
      "2025-04-16 22:00:14 — VALE: VALE S.A.  ( VALE )  Stock Moves -1.42%: What You Should Know\n",
      "2025-04-10 22:00:15 — VALE: VALE S.A.  ( VALE )  Gains As Market Dips: What You Should Know\n",
      "2025-04-03 13:00:08 — VALE: VALE S.A.  ( VALE )  Is a Trending Stock: Facts to Know Before Betting on It\n",
      "2025-04-02 22:00:15 — VALE: VALE S.A.  ( VALE )  Stock Declines While Market Improves: Some Information for Investors\n",
      "2025-03-31 22:15:15 — VALE: VALE S.A.  ( VALE )  Stock Sinks As Market Gains: Here's Why\n",
      "2025-03-24 22:00:15 — VALE: VALE S.A.  ( VALE )  Stock Declines While Market Improves: Some Information for Investors\n",
      "2025-03-20 13:00:09 — VALE: VALE S.A.  ( VALE )  is Attracting Investor Attention: Here is What You Should Know\n",
      "2025-03-18 22:00:16 — VALE: VALE S.A.  ( VALE )  Gains As Market Dips: What You Should Know\n",
      "2025-03-12 22:00:16 — VALE: VALE S.A.  ( VALE )  Stock Dips While Market Gains: Key Facts\n",
      "2025-03-11 15:45:11 — VALE: VALE S.A.  ( VALE )  Could Be a Great Choice\n",
      "2025-03-06 23:00:08 — VALE: VALE S.A.  ( VALE )  Gains As Market Dips: What You Should Know\n",
      "2025-03-06 14:00:10 — VALE: VALE S.A.  ( VALE )  Is a Trending Stock: Facts to Know Before Betting on It\n",
      "2025-02-27 23:00:11 — VALE: VALE S.A.  ( VALE )  Stock Moves -1.33%: What You Should Know\n",
      "2025-02-26 17:29:00 — RIO: Should You Buy, Sell or Hold Vale Stock Post Q4 Earnings?\n",
      "2025-02-25 16:04:00 — FCX: Vale Q4 Earnings Miss Estimates, Revenues Decline 22% Y/Y\n",
      "2025-02-21 16:45:14 — VALE: Are You Looking for a High-Growth Dividend Stock?\n",
      "2025-02-19 23:15:22 — VALE: VALE S.A.  ( VALE )  Stock Slides as Market Rises: Facts to Know Before You Trade\n",
      "2025-02-12 14:00:11 — VALE: VALE S.A.  ( VALE )  is Attracting Investor Attention: Here is What You Should Know\n",
      "2025-02-11 17:03:00 — CF: Vale Gears Up to Report Q4 Earnings: Here's What to Expect\n",
      "2025-02-10 23:00:15 — VALE: VALE S.A.  ( VALE )  Rises Higher Than Market: Key Facts\n",
      "2025-02-03 23:00:15 — VALE: VALE S.A.  ( VALE )  Gains As Market Dips: What You Should Know\n",
      "2025-01-30 14:00:10 — VALE: VALE S.A.  ( VALE )  Is a Trending Stock: Facts to Know Before Betting on It\n",
      "2025-01-29 15:24:00 — VALE: Vale Q4 Iron Ore Output Declines Y/Y, Copper & Nickel Rise\n",
      "2025-01-28 23:00:19 — VALE: VALE S.A.  ( VALE )  Stock Drops Despite Market Gains: Important Facts to Note\n",
      "2025-01-21 23:15:23 — VALE: VALE S.A.  ( VALE )  Increases Yet Falls Behind Market: What Investors Need to Know\n",
      "2025-01-17 14:00:12 — VALE: Investors Heavily Search VALE S.A.  ( VALE ) : Here is What You Need to Know\n",
      "2025-01-13 23:00:20 — VALE: VALE S.A.  ( VALE )  Gains But Lags Market: What You Should Know\n",
      "2025-01-07 23:00:21 — VALE: VALE S.A.  ( VALE )  Stock Moves -0.7%: What You Should Know\n",
      "2025-01-06 23:15:20 — VALE: VALE S.A.  ( VALE )  Stock Sinks As Market Gains: What You Should Know\n",
      "2025-01-02 20:00:00 — ICL: Vale Renegotiates Railway Concessions Deal, Commits $1.8B Investment\n",
      "2024-12-26 14:00:12 — VALE: Here is What to Know Beyond Why VALE S.A.  ( VALE )  is a Trending Stock\n",
      "2024-12-17 20:00:00 — VALE: RIO & BHP to Build Electric Smelting Furnace Plant to Lower Emissions\n",
      "2024-12-05 12:00:00 — UMICF: Nickel Hydroxycarbonate Market is Projected to Reach US$ 902.7 Million with 5.9% CAGR by 2034 | Fact.MR Report\n",
      "2024-11-29 14:00:11 — VALE: VALE S.A.  ( VALE )  is Attracting Investor Attention: Here is What You Should Know\n",
      "2024-10-31 13:00:11 — VALE: VALE S.A.  ( VALE )  Is a Trending Stock: Facts to Know Before Betting on It\n",
      "2024-10-18 17:23:00 — VALE: Vale to Report Q3 Earnings: Here's What You Should Know\n",
      "2024-10-17 16:26:00 — LUNMF: BHP Q1 Iron Ore Production Rises 2% Y/Y, Copper Increases 4%\n",
      "2024-10-17 15:14:00 — RIO: Vale Reports Y/Y Increases in Iron Ore, Copper & Nickel Output in Q3\n"
     ]
    }
   ],
   "source": [
    "if \"feed\" in data:\n",
    "    for item in data[\"feed\"]:\n",
    "        print(f\"{datetime.strptime(item['time_published'], \"%Y%m%dT%H%M%S\")} — {item['ticker_sentiment'][0]['ticker']}: {item['title']}\")"
   ]
  },
  {
   "cell_type": "code",
   "execution_count": null,
   "id": "82c36eba",
   "metadata": {},
   "outputs": [],
   "source": []
  }
 ],
 "metadata": {
  "kernelspec": {
   "display_name": ".venv (3.13.7)",
   "language": "python",
   "name": "python3"
  },
  "language_info": {
   "codemirror_mode": {
    "name": "ipython",
    "version": 3
   },
   "file_extension": ".py",
   "mimetype": "text/x-python",
   "name": "python",
   "nbconvert_exporter": "python",
   "pygments_lexer": "ipython3",
   "version": "3.13.7"
  }
 },
 "nbformat": 4,
 "nbformat_minor": 5
}
