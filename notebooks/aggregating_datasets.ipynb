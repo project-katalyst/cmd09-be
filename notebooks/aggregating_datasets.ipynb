{
 "cells": [
  {
   "cell_type": "code",
   "execution_count": 1,
   "id": "c4239668",
   "metadata": {},
   "outputs": [],
   "source": [
    "import pandas as pd\n",
    "import numpy as np"
   ]
  },
  {
   "cell_type": "code",
   "execution_count": 2,
   "id": "e709e296",
   "metadata": {},
   "outputs": [],
   "source": [
    "unspsc = pd.read_excel('tags_un.xlsx')"
   ]
  },
  {
   "cell_type": "code",
   "execution_count": 3,
   "id": "18042756",
   "metadata": {},
   "outputs": [],
   "source": [
    "segment_to_sector = {\n",
    "    \"Apparel and Luggage and Personal Care Products\": \"Consumer Discretionary\",\n",
    "    \"Building and Construction Machinery and Accessories\": \"Industrials\",\n",
    "    \"Building and Facility Construction and Maintenance Services\": \"Industrials\",\n",
    "    \"Chemicals including Bio Chemicals and Gas Materials\": \"Materials\",\n",
    "    \"Cleaning Equipment and Supplies\": \"Industrials\",\n",
    "    \"Distribution and Conditioning Systems and Equipment and Components\": \"Industrials\",\n",
    "    \"Domestic Appliances and Supplies and Consumer Electronic Products\": \"Consumer Discretionary\",\n",
    "    \"Editorial and Design and Graphic and Fine Art Services\": \"Communication Services\",\n",
    "    \"Education and Training Services\": \"Consumer Discretionary\",\n",
    "    \"Electrical Systems and Lighting and Components and Accessories and Supplies\": \"Industrials\",\n",
    "    \"Electronic Components and Supplies\": \"Information Technology\",\n",
    "    \"Engineering and Research and Technology Based Services\": \"Industrials\",\n",
    "    \"Environmental Services\": \"Industrials\",\n",
    "    \"Farming and Fishing and Forestry and Wildlife Contracting Services\": \"Industrials\",\n",
    "    \"Farming and Fishing and Forestry and Wildlife Machinery and Accessories\": \"Industrials\",\n",
    "    \"Financial and Insurance Services\": \"Financials\",\n",
    "    \"Financial Instruments, Products, Contracts and Agreements\": \"Financials\",\n",
    "    \"Food and Beverage Products\": \"Consumer Staples\",\n",
    "    \"Fuels and Fuel Additives and Lubricants and Anti corrosive Materials\": \"Energy\",\n",
    "    \"Furniture and Furnishings\": \"Consumer Discretionary\",\n",
    "    \"Healthcare Services\": \"Health Care\",\n",
    "    \"Humanitarian Relief Items, Kits, or Accessories\": \"Consumer Staples\",\n",
    "    \"Industrial Cleaning Services\": \"Industrials\",\n",
    "    \"Industrial Manufacturing and Processing Machinery and Accessories\": \"Industrials\",\n",
    "    \"Industrial Production and Manufacturing Services\": \"Industrials\",\n",
    "    \"Information Technology Broadcasting and Telecommunications\": \"Communication Services\",\n",
    "    \"Laboratory and Measuring and Observing and Testing Equipment\": \"Health Care\",\n",
    "    \"Land and Buildings and Structures and Thoroughfares\": \"Real Estate\",\n",
    "    \"Law Enforcement and National Security and Security and Safety Equipment and Supplies\": \"Industrials\",\n",
    "    \"Live Plant and Animal Material and Accessories and Supplies\": \"Consumer Staples\",\n",
    "    \"Management and Business Professionals and Administrative Services\": \"Industrials\",\n",
    "    \"Manufacturing Components and Supplies\": \"Industrials\",\n",
    "    \"Material Handling and Conditioning and Storage Machinery and their Accessories and Supplies\": \"Industrials\",\n",
    "    \"Medical Equipment and Accessories and Supplies\": \"Health Care\",\n",
    "    \"Mineral and Textile and Inedible Plant and Animal Materials\": \"Materials\",\n",
    "    \"Mining and oil and gas services\": \"Energy\",\n",
    "    \"Mining and Well Drilling Machinery and Accessories\": \"Energy\",\n",
    "    \"Musical Instruments and Games and Toys and Arts and Crafts and Educational Equipment and Materials and Accessories and Supplies\": \"Consumer Discretionary\",\n",
    "    \"Office Equipment and Accessories and Supplies\": \"Industrials\",\n",
    "    \"Organizations and Clubs\": \"Consumer Discretionary\",\n",
    "    \"Paper Materials and Products\": \"Materials\",\n",
    "    \"Personal and Domestic Services\": \"Consumer Discretionary\",\n",
    "    \"Pharmaceutical Products incl. Contraceptives and Vaccines\": \"Health Care\",\n",
    "    \"Politics and Civic Affairs Services\": \"Industrials\",\n",
    "    \"Power Generation and Distribution Machinery and Accessories\": \"Industrials\",\n",
    "    \"Printing and Photographic and Audio and Visual Equipment and Supplies\": \"Consumer Discretionary\",\n",
    "    \"Public Order and Security and Safety Services\": \"Industrials\",\n",
    "    \"Public Utilities and Public Sector Related Services\": \"Utilities\",\n",
    "    \"Published Products\": \"Communication Services\",\n",
    "    \"Resin and Rosin and Rubber and Foam and Film and Elastomeric Materials\": \"Materials\",\n",
    "    \"Service Industry Machinery and Equipment and Supplies\": \"Industrials\",\n",
    "    \"Sports and Recreational Equipment and Supplies and Accessories\": \"Consumer Discretionary\",\n",
    "    \"Structures and Building and Construction and Manufacturing Components and Supplies\": \"Industrials\",\n",
    "    \"Timepieces and Jewelry and Gemstone Products\": \"Consumer Discretionary\",\n",
    "    \"Tools and General Machinery\": \"Industrials\",\n",
    "    \"Transportation and Storage and Mail Services\": \"Industrials\",\n",
    "    \"Travel and Food and Lodging and Entertainment Services\": \"Consumer Discretionary\",\n",
    "    \"Vehicles and their Accessories and Components\": \"Consumer Discretionary\",\n",
    "}\n",
    "\n",
    "sector_codes = {sector: i+10 for i, sector in enumerate(sorted(set(segment_to_sector.values())))}\n"
   ]
  },
  {
   "cell_type": "code",
   "execution_count": 4,
   "id": "2701c9e4",
   "metadata": {},
   "outputs": [],
   "source": [
    "unspsc['Sector Title'] = unspsc['Segment Title'].map(segment_to_sector)\n",
    "unspsc['Sector'] = unspsc['Sector Title'].map(sector_codes)"
   ]
  },
  {
   "cell_type": "code",
   "execution_count": 5,
   "id": "c7c5ea1e",
   "metadata": {},
   "outputs": [],
   "source": [
    "def generate_code(row: pd.Series) -> str:\n",
    "    \"\"\"\n",
    "    Generate a code based on the row's values.\n",
    "    \"\"\"\n",
    "    if type(row['Commodity Title']) != str:\n",
    "        if type(row['Class Title']) != str:\n",
    "            if type(row['Family Title']) != str:\n",
    "                if type(row['Segment Title']) != str:\n",
    "                    return str(row['Sector'])+''\n",
    "                else:\n",
    "                    return str(row['Sector']) + str(row['Segment'])\n",
    "            else:\n",
    "                return str(row['Sector']) + str(row['Family'])\n",
    "        else:\n",
    "            return str(row['Sector']) + str(row['Class'])\n",
    "    else:\n",
    "        return str(row['Sector']) + str(row['Commodity'])"
   ]
  },
  {
   "cell_type": "code",
   "execution_count": 6,
   "id": "5c4a2995",
   "metadata": {},
   "outputs": [],
   "source": [
    "unspsc['Code'] = unspsc.apply(generate_code, axis=1)\n",
    "unspsc['Code'] = unspsc['Code'].astype(float).astype(int)"
   ]
  },
  {
   "cell_type": "code",
   "execution_count": 7,
   "id": "3c45e318",
   "metadata": {},
   "outputs": [],
   "source": [
    "unspsc = unspsc.drop(columns=['Sector', 'Segment', 'Family', 'Class', 'Commodity']).reindex(columns=['Code','Sector Title', 'Segment Title', 'Family Title', 'Class Title', 'Commodity Title'])"
   ]
  },
  {
   "cell_type": "code",
   "execution_count": 8,
   "id": "e70ccfd8",
   "metadata": {},
   "outputs": [],
   "source": [
    "# Create new rows for each sector\n",
    "new_rows = []\n",
    "for sector, code in sector_codes.items():\n",
    "    new_row = {\n",
    "        'Code': int(str(code) + '0' * 8),\n",
    "        'Sector Title': sector,\n",
    "        'Segment Title': np.nan,\n",
    "        'Family Title': np.nan,\n",
    "        'Class Title': np.nan,\n",
    "        'Commodity Title': np.nan\n",
    "    }\n",
    "    new_rows.append(new_row)\n",
    "\n",
    "# Append new rows to the dataframe\n",
    "unspsc = pd.concat([unspsc, pd.DataFrame(new_rows)], ignore_index=True)"
   ]
  },
  {
   "cell_type": "code",
   "execution_count": 9,
   "id": "636739ef",
   "metadata": {},
   "outputs": [
    {
     "data": {
      "text/plain": [
       "'No duplicate codes'"
      ]
     },
     "execution_count": 9,
     "metadata": {},
     "output_type": "execute_result"
    }
   ],
   "source": [
    "\"No duplicate codes\" if len(unspsc['Code'].unique()) == unspsc.shape[0] else \"Duplicate Codes found\""
   ]
  },
  {
   "cell_type": "code",
   "execution_count": 11,
   "id": "02321e53",
   "metadata": {
    "vscode": {
     "languageId": "javascript"
    }
   },
   "outputs": [
    {
     "data": {
      "application/vnd.microsoft.datawrangler.viewer.v0+json": {
       "columns": [
        {
         "name": "index",
         "rawType": "int64",
         "type": "integer"
        },
        {
         "name": "Code",
         "rawType": "int64",
         "type": "integer"
        },
        {
         "name": "tag1",
         "rawType": "object",
         "type": "string"
        },
        {
         "name": "tag2",
         "rawType": "object",
         "type": "unknown"
        },
        {
         "name": "tag3",
         "rawType": "object",
         "type": "unknown"
        },
        {
         "name": "tag4",
         "rawType": "object",
         "type": "unknown"
        },
        {
         "name": "tag5",
         "rawType": "object",
         "type": "unknown"
        }
       ],
       "conversionMethod": "pd.DataFrame",
       "ref": "37c3c159-0e44-43e1-8680-d501dd0c223c",
       "rows": [
        [
         "158463",
         "1000000000",
         "Communication Services",
         null,
         null,
         null,
         null
        ],
        [
         "118063",
         "1043000000",
         "Communication Services",
         "Information Technology Broadcasting and Telecommunications",
         null,
         null,
         null
        ],
        [
         "118475",
         "1043190000",
         "Communication Services",
         "Information Technology Broadcasting and Telecommunications",
         "Communications Devices and Accessories",
         null,
         null
        ],
        [
         "118438",
         "1043191500",
         "Communication Services",
         "Information Technology Broadcasting and Telecommunications",
         "Communications Devices and Accessories",
         "Personal communication devices",
         null
        ],
        [
         "118418",
         "1043191501",
         "Communication Services",
         "Information Technology Broadcasting and Telecommunications",
         "Communications Devices and Accessories",
         "Personal communication devices",
         "Mobile phones"
        ],
        [
         "118419",
         "1043191502",
         "Communication Services",
         "Information Technology Broadcasting and Telecommunications",
         "Communications Devices and Accessories",
         "Personal communication devices",
         "Pagers"
        ],
        [
         "118420",
         "1043191503",
         "Communication Services",
         "Information Technology Broadcasting and Telecommunications",
         "Communications Devices and Accessories",
         "Personal communication devices",
         "Pay phones"
        ],
        [
         "118421",
         "1043191504",
         "Communication Services",
         "Information Technology Broadcasting and Telecommunications",
         "Communications Devices and Accessories",
         "Personal communication devices",
         "Fixed phones"
        ],
        [
         "118422",
         "1043191505",
         "Communication Services",
         "Information Technology Broadcasting and Telecommunications",
         "Communications Devices and Accessories",
         "Personal communication devices",
         "Answering machines"
        ],
        [
         "118423",
         "1043191507",
         "Communication Services",
         "Information Technology Broadcasting and Telecommunications",
         "Communications Devices and Accessories",
         "Personal communication devices",
         "Special purpose telephones"
        ],
        [
         "118424",
         "1043191508",
         "Communication Services",
         "Information Technology Broadcasting and Telecommunications",
         "Communications Devices and Accessories",
         "Personal communication devices",
         "Digital telephones"
        ],
        [
         "118425",
         "1043191509",
         "Communication Services",
         "Information Technology Broadcasting and Telecommunications",
         "Communications Devices and Accessories",
         "Personal communication devices",
         "Analog telephones"
        ],
        [
         "118426",
         "1043191510",
         "Communication Services",
         "Information Technology Broadcasting and Telecommunications",
         "Communications Devices and Accessories",
         "Personal communication devices",
         "Two way radios"
        ],
        [
         "118427",
         "1043191511",
         "Communication Services",
         "Information Technology Broadcasting and Telecommunications",
         "Communications Devices and Accessories",
         "Personal communication devices",
         "IP phones"
        ],
        [
         "118428",
         "1043191512",
         "Communication Services",
         "Information Technology Broadcasting and Telecommunications",
         "Communications Devices and Accessories",
         "Personal communication devices",
         "Digital enhanced cordless telecommunications DECT cordless phones"
        ],
        [
         "118429",
         "1043191513",
         "Communication Services",
         "Information Technology Broadcasting and Telecommunications",
         "Communications Devices and Accessories",
         "Personal communication devices",
         "Video phone"
        ],
        [
         "118430",
         "1043191514",
         "Communication Services",
         "Information Technology Broadcasting and Telecommunications",
         "Communications Devices and Accessories",
         "Personal communication devices",
         "Satellite phone"
        ],
        [
         "118431",
         "1043191515",
         "Communication Services",
         "Information Technology Broadcasting and Telecommunications",
         "Communications Devices and Accessories",
         "Personal communication devices",
         "Speaker phone"
        ],
        [
         "118432",
         "1043191516",
         "Communication Services",
         "Information Technology Broadcasting and Telecommunications",
         "Communications Devices and Accessories",
         "Personal communication devices",
         "Keyphone system"
        ],
        [
         "118433",
         "1043191517",
         "Communication Services",
         "Information Technology Broadcasting and Telecommunications",
         "Communications Devices and Accessories",
         "Personal communication devices",
         "Very High Frequency Radio Set, Desktop"
        ],
        [
         "118434",
         "1043191518",
         "Communication Services",
         "Information Technology Broadcasting and Telecommunications",
         "Communications Devices and Accessories",
         "Personal communication devices",
         "Very High Frequency Radio Set, Mobile"
        ],
        [
         "118435",
         "1043191519",
         "Communication Services",
         "Information Technology Broadcasting and Telecommunications",
         "Communications Devices and Accessories",
         "Personal communication devices",
         "Very High Frequency Radio Set, Handheld"
        ],
        [
         "118436",
         "1043191520",
         "Communication Services",
         "Information Technology Broadcasting and Telecommunications",
         "Communications Devices and Accessories",
         "Personal communication devices",
         "High frequency radio set, desktop"
        ],
        [
         "118437",
         "1043191521",
         "Communication Services",
         "Information Technology Broadcasting and Telecommunications",
         "Communications Devices and Accessories",
         "Personal communication devices",
         "High frequency radio set, mobile"
        ],
        [
         "118474",
         "1043191600",
         "Communication Services",
         "Information Technology Broadcasting and Telecommunications",
         "Communications Devices and Accessories",
         "Personal communications device accessories or parts",
         null
        ],
        [
         "118439",
         "1043191601",
         "Communication Services",
         "Information Technology Broadcasting and Telecommunications",
         "Communications Devices and Accessories",
         "Personal communications device accessories or parts",
         "Mobile phone face plates"
        ],
        [
         "118440",
         "1043191602",
         "Communication Services",
         "Information Technology Broadcasting and Telecommunications",
         "Communications Devices and Accessories",
         "Personal communications device accessories or parts",
         "Phone dialers"
        ],
        [
         "118441",
         "1043191603",
         "Communication Services",
         "Information Technology Broadcasting and Telecommunications",
         "Communications Devices and Accessories",
         "Personal communications device accessories or parts",
         "Phone extension cords"
        ],
        [
         "118442",
         "1043191604",
         "Communication Services",
         "Information Technology Broadcasting and Telecommunications",
         "Communications Devices and Accessories",
         "Personal communications device accessories or parts",
         "Phone face plates"
        ],
        [
         "118443",
         "1043191605",
         "Communication Services",
         "Information Technology Broadcasting and Telecommunications",
         "Communications Devices and Accessories",
         "Personal communications device accessories or parts",
         "Phone handset cords"
        ],
        [
         "118444",
         "1043191606",
         "Communication Services",
         "Information Technology Broadcasting and Telecommunications",
         "Communications Devices and Accessories",
         "Personal communications device accessories or parts",
         "Phone handsets"
        ],
        [
         "118445",
         "1043191607",
         "Communication Services",
         "Information Technology Broadcasting and Telecommunications",
         "Communications Devices and Accessories",
         "Personal communications device accessories or parts",
         "Phone headset ear or speaker cushions"
        ],
        [
         "118446",
         "1043191608",
         "Communication Services",
         "Information Technology Broadcasting and Telecommunications",
         "Communications Devices and Accessories",
         "Personal communications device accessories or parts",
         "Phone headset voice tubes"
        ],
        [
         "118447",
         "1043191609",
         "Communication Services",
         "Information Technology Broadcasting and Telecommunications",
         "Communications Devices and Accessories",
         "Personal communications device accessories or parts",
         "Phone headsets"
        ],
        [
         "118448",
         "1043191610",
         "Communication Services",
         "Information Technology Broadcasting and Telecommunications",
         "Communications Devices and Accessories",
         "Personal communications device accessories or parts",
         "Personal communication holders or mounts, stands"
        ],
        [
         "118449",
         "1043191611",
         "Communication Services",
         "Information Technology Broadcasting and Telecommunications",
         "Communications Devices and Accessories",
         "Personal communications device accessories or parts",
         "Phone line protectors"
        ],
        [
         "118450",
         "1043191612",
         "Communication Services",
         "Information Technology Broadcasting and Telecommunications",
         "Communications Devices and Accessories",
         "Personal communications device accessories or parts",
         "Phone rests"
        ],
        [
         "118451",
         "1043191614",
         "Communication Services",
         "Information Technology Broadcasting and Telecommunications",
         "Communications Devices and Accessories",
         "Personal communications device accessories or parts",
         "Phone voice converters"
        ],
        [
         "118452",
         "1043191615",
         "Communication Services",
         "Information Technology Broadcasting and Telecommunications",
         "Communications Devices and Accessories",
         "Personal communications device accessories or parts",
         "Vehicle handsfree phone set"
        ],
        [
         "118453",
         "1043191616",
         "Communication Services",
         "Information Technology Broadcasting and Telecommunications",
         "Communications Devices and Accessories",
         "Personal communications device accessories or parts",
         "Centrex phone console"
        ],
        [
         "118454",
         "1043191618",
         "Communication Services",
         "Information Technology Broadcasting and Telecommunications",
         "Communications Devices and Accessories",
         "Personal communications device accessories or parts",
         "Conversation recording units"
        ],
        [
         "118455",
         "1043191619",
         "Communication Services",
         "Information Technology Broadcasting and Telecommunications",
         "Communications Devices and Accessories",
         "Personal communications device accessories or parts",
         "Telephone signaling devices"
        ],
        [
         "118456",
         "1043191621",
         "Communication Services",
         "Information Technology Broadcasting and Telecommunications",
         "Communications Devices and Accessories",
         "Personal communications device accessories or parts",
         "Handset adapters"
        ],
        [
         "118457",
         "1043191622",
         "Communication Services",
         "Information Technology Broadcasting and Telecommunications",
         "Communications Devices and Accessories",
         "Personal communications device accessories or parts",
         "Pager modules or accessories"
        ],
        [
         "118458",
         "1043191623",
         "Communication Services",
         "Information Technology Broadcasting and Telecommunications",
         "Communications Devices and Accessories",
         "Personal communications device accessories or parts",
         "Pay phone coin mechanisms"
        ],
        [
         "118459",
         "1043191624",
         "Communication Services",
         "Information Technology Broadcasting and Telecommunications",
         "Communications Devices and Accessories",
         "Personal communications device accessories or parts",
         "Pay phone coin chutes"
        ],
        [
         "118460",
         "1043191625",
         "Communication Services",
         "Information Technology Broadcasting and Telecommunications",
         "Communications Devices and Accessories",
         "Personal communications device accessories or parts",
         "Pay phone coin boxes"
        ],
        [
         "118461",
         "1043191626",
         "Communication Services",
         "Information Technology Broadcasting and Telecommunications",
         "Communications Devices and Accessories",
         "Personal communications device accessories or parts",
         "Pay phone hoppers"
        ],
        [
         "118462",
         "1043191627",
         "Communication Services",
         "Information Technology Broadcasting and Telecommunications",
         "Communications Devices and Accessories",
         "Personal communications device accessories or parts",
         "Pay phone coin box vault doors"
        ],
        [
         "118463",
         "1043191628",
         "Communication Services",
         "Information Technology Broadcasting and Telecommunications",
         "Communications Devices and Accessories",
         "Personal communications device accessories or parts",
         "Pay phone microphone windscreens"
        ]
       ],
       "shape": {
        "columns": 6,
        "rows": 158474
       }
      },
      "text/html": [
       "<div>\n",
       "<style scoped>\n",
       "    .dataframe tbody tr th:only-of-type {\n",
       "        vertical-align: middle;\n",
       "    }\n",
       "\n",
       "    .dataframe tbody tr th {\n",
       "        vertical-align: top;\n",
       "    }\n",
       "\n",
       "    .dataframe thead th {\n",
       "        text-align: right;\n",
       "    }\n",
       "</style>\n",
       "<table border=\"1\" class=\"dataframe\">\n",
       "  <thead>\n",
       "    <tr style=\"text-align: right;\">\n",
       "      <th></th>\n",
       "      <th>Code</th>\n",
       "      <th>tag1</th>\n",
       "      <th>tag2</th>\n",
       "      <th>tag3</th>\n",
       "      <th>tag4</th>\n",
       "      <th>tag5</th>\n",
       "    </tr>\n",
       "  </thead>\n",
       "  <tbody>\n",
       "    <tr>\n",
       "      <th>158463</th>\n",
       "      <td>1000000000</td>\n",
       "      <td>Communication Services</td>\n",
       "      <td>NaN</td>\n",
       "      <td>NaN</td>\n",
       "      <td>NaN</td>\n",
       "      <td>NaN</td>\n",
       "    </tr>\n",
       "    <tr>\n",
       "      <th>118063</th>\n",
       "      <td>1043000000</td>\n",
       "      <td>Communication Services</td>\n",
       "      <td>Information Technology Broadcasting and Teleco...</td>\n",
       "      <td>NaN</td>\n",
       "      <td>NaN</td>\n",
       "      <td>NaN</td>\n",
       "    </tr>\n",
       "    <tr>\n",
       "      <th>118475</th>\n",
       "      <td>1043190000</td>\n",
       "      <td>Communication Services</td>\n",
       "      <td>Information Technology Broadcasting and Teleco...</td>\n",
       "      <td>Communications Devices and Accessories</td>\n",
       "      <td>NaN</td>\n",
       "      <td>NaN</td>\n",
       "    </tr>\n",
       "    <tr>\n",
       "      <th>118438</th>\n",
       "      <td>1043191500</td>\n",
       "      <td>Communication Services</td>\n",
       "      <td>Information Technology Broadcasting and Teleco...</td>\n",
       "      <td>Communications Devices and Accessories</td>\n",
       "      <td>Personal communication devices</td>\n",
       "      <td>NaN</td>\n",
       "    </tr>\n",
       "    <tr>\n",
       "      <th>118418</th>\n",
       "      <td>1043191501</td>\n",
       "      <td>Communication Services</td>\n",
       "      <td>Information Technology Broadcasting and Teleco...</td>\n",
       "      <td>Communications Devices and Accessories</td>\n",
       "      <td>Personal communication devices</td>\n",
       "      <td>Mobile phones</td>\n",
       "    </tr>\n",
       "    <tr>\n",
       "      <th>...</th>\n",
       "      <td>...</td>\n",
       "      <td>...</td>\n",
       "      <td>...</td>\n",
       "      <td>...</td>\n",
       "      <td>...</td>\n",
       "      <td>...</td>\n",
       "    </tr>\n",
       "    <tr>\n",
       "      <th>154225</th>\n",
       "      <td>2083121705</td>\n",
       "      <td>Utilities</td>\n",
       "      <td>Public Utilities and Public Sector Related Ser...</td>\n",
       "      <td>Information services</td>\n",
       "      <td>Mass communication services</td>\n",
       "      <td>Social media related services</td>\n",
       "    </tr>\n",
       "    <tr>\n",
       "      <th>154231</th>\n",
       "      <td>2083130000</td>\n",
       "      <td>Utilities</td>\n",
       "      <td>Public Utilities and Public Sector Related Ser...</td>\n",
       "      <td>Information and communication broadcasting Ser...</td>\n",
       "      <td>NaN</td>\n",
       "      <td>NaN</td>\n",
       "    </tr>\n",
       "    <tr>\n",
       "      <th>154230</th>\n",
       "      <td>2083130100</td>\n",
       "      <td>Utilities</td>\n",
       "      <td>Public Utilities and Public Sector Related Ser...</td>\n",
       "      <td>Information and communication broadcasting Ser...</td>\n",
       "      <td>Communication service</td>\n",
       "      <td>NaN</td>\n",
       "    </tr>\n",
       "    <tr>\n",
       "      <th>154228</th>\n",
       "      <td>2083130101</td>\n",
       "      <td>Utilities</td>\n",
       "      <td>Public Utilities and Public Sector Related Ser...</td>\n",
       "      <td>Information and communication broadcasting Ser...</td>\n",
       "      <td>Communication service</td>\n",
       "      <td>Wire communication service</td>\n",
       "    </tr>\n",
       "    <tr>\n",
       "      <th>154229</th>\n",
       "      <td>2083130102</td>\n",
       "      <td>Utilities</td>\n",
       "      <td>Public Utilities and Public Sector Related Ser...</td>\n",
       "      <td>Information and communication broadcasting Ser...</td>\n",
       "      <td>Communication service</td>\n",
       "      <td>Wireless communication service</td>\n",
       "    </tr>\n",
       "  </tbody>\n",
       "</table>\n",
       "<p>158474 rows × 6 columns</p>\n",
       "</div>"
      ],
      "text/plain": [
       "              Code                    tag1  \\\n",
       "158463  1000000000  Communication Services   \n",
       "118063  1043000000  Communication Services   \n",
       "118475  1043190000  Communication Services   \n",
       "118438  1043191500  Communication Services   \n",
       "118418  1043191501  Communication Services   \n",
       "...            ...                     ...   \n",
       "154225  2083121705               Utilities   \n",
       "154231  2083130000               Utilities   \n",
       "154230  2083130100               Utilities   \n",
       "154228  2083130101               Utilities   \n",
       "154229  2083130102               Utilities   \n",
       "\n",
       "                                                     tag2  \\\n",
       "158463                                                NaN   \n",
       "118063  Information Technology Broadcasting and Teleco...   \n",
       "118475  Information Technology Broadcasting and Teleco...   \n",
       "118438  Information Technology Broadcasting and Teleco...   \n",
       "118418  Information Technology Broadcasting and Teleco...   \n",
       "...                                                   ...   \n",
       "154225  Public Utilities and Public Sector Related Ser...   \n",
       "154231  Public Utilities and Public Sector Related Ser...   \n",
       "154230  Public Utilities and Public Sector Related Ser...   \n",
       "154228  Public Utilities and Public Sector Related Ser...   \n",
       "154229  Public Utilities and Public Sector Related Ser...   \n",
       "\n",
       "                                                     tag3  \\\n",
       "158463                                                NaN   \n",
       "118063                                                NaN   \n",
       "118475             Communications Devices and Accessories   \n",
       "118438             Communications Devices and Accessories   \n",
       "118418             Communications Devices and Accessories   \n",
       "...                                                   ...   \n",
       "154225                               Information services   \n",
       "154231  Information and communication broadcasting Ser...   \n",
       "154230  Information and communication broadcasting Ser...   \n",
       "154228  Information and communication broadcasting Ser...   \n",
       "154229  Information and communication broadcasting Ser...   \n",
       "\n",
       "                                  tag4                            tag5  \n",
       "158463                             NaN                             NaN  \n",
       "118063                             NaN                             NaN  \n",
       "118475                             NaN                             NaN  \n",
       "118438  Personal communication devices                             NaN  \n",
       "118418  Personal communication devices                   Mobile phones  \n",
       "...                                ...                             ...  \n",
       "154225     Mass communication services   Social media related services  \n",
       "154231                             NaN                             NaN  \n",
       "154230           Communication service                             NaN  \n",
       "154228           Communication service      Wire communication service  \n",
       "154229           Communication service  Wireless communication service  \n",
       "\n",
       "[158474 rows x 6 columns]"
      ]
     },
     "execution_count": 11,
     "metadata": {},
     "output_type": "execute_result"
    }
   ],
   "source": [
    "unspsc = unspsc.sort_values(by='Code').rename(columns={\n",
    "    'Sector Title': 'tag1',\n",
    "    'Segment Title': 'tag2',\n",
    "    'Family Title': 'tag3',\n",
    "    'Class Title': 'tag4',\n",
    "    'Commodity Title': 'tag5'\n",
    "})\n",
    "unspsc"
   ]
  },
  {
   "cell_type": "code",
   "execution_count": 14,
   "id": "39ebcba1",
   "metadata": {
    "vscode": {
     "languageId": "javascript"
    }
   },
   "outputs": [],
   "source": [
    "unspsc['code'] = unspsc['code'].astype(str).str.zfill(10).apply(lambda x: '.'.join([x[i:i+2] for i in range(0, 10, 2)]))\n",
    "\n",
    "def adjust_code(row):\n",
    "    if pd.isna(row['tag2']):\n",
    "        return row['code'][:2]\n",
    "    elif pd.isna(row['tag3']):\n",
    "        return row['code'][:5]\n",
    "    elif pd.isna(row['tag4']):\n",
    "        return row['code'][:8]\n",
    "    elif pd.isna(row['tag5']):\n",
    "        return row['code'][:11]\n",
    "    else:\n",
    "        return row['code']\n",
    "\n",
    "unspsc['code'] = unspsc.apply(adjust_code, axis=1)"
   ]
  },
  {
   "cell_type": "code",
   "execution_count": 15,
   "id": "a9289174",
   "metadata": {
    "vscode": {
     "languageId": "javascript"
    }
   },
   "outputs": [
    {
     "data": {
      "application/vnd.microsoft.datawrangler.viewer.v0+json": {
       "columns": [
        {
         "name": "index",
         "rawType": "int64",
         "type": "integer"
        },
        {
         "name": "code",
         "rawType": "object",
         "type": "string"
        },
        {
         "name": "tag1",
         "rawType": "object",
         "type": "string"
        },
        {
         "name": "tag2",
         "rawType": "object",
         "type": "unknown"
        },
        {
         "name": "tag3",
         "rawType": "object",
         "type": "unknown"
        },
        {
         "name": "tag4",
         "rawType": "object",
         "type": "unknown"
        },
        {
         "name": "tag5",
         "rawType": "object",
         "type": "unknown"
        }
       ],
       "conversionMethod": "pd.DataFrame",
       "ref": "3f3b814a-277a-4d96-a28c-ccdb819dda42",
       "rows": [
        [
         "0",
         "10",
         "Communication Services",
         null,
         null,
         null,
         null
        ],
        [
         "1",
         "10.43",
         "Communication Services",
         "Information Technology Broadcasting and Telecommunications",
         null,
         null,
         null
        ],
        [
         "2",
         "10.43.19",
         "Communication Services",
         "Information Technology Broadcasting and Telecommunications",
         "Communications Devices and Accessories",
         null,
         null
        ],
        [
         "3",
         "10.43.19.15",
         "Communication Services",
         "Information Technology Broadcasting and Telecommunications",
         "Communications Devices and Accessories",
         "Personal communication devices",
         null
        ],
        [
         "4",
         "10.43.19.15.01",
         "Communication Services",
         "Information Technology Broadcasting and Telecommunications",
         "Communications Devices and Accessories",
         "Personal communication devices",
         "Mobile phones"
        ],
        [
         "5",
         "10.43.19.15.02",
         "Communication Services",
         "Information Technology Broadcasting and Telecommunications",
         "Communications Devices and Accessories",
         "Personal communication devices",
         "Pagers"
        ],
        [
         "6",
         "10.43.19.15.03",
         "Communication Services",
         "Information Technology Broadcasting and Telecommunications",
         "Communications Devices and Accessories",
         "Personal communication devices",
         "Pay phones"
        ],
        [
         "7",
         "10.43.19.15.04",
         "Communication Services",
         "Information Technology Broadcasting and Telecommunications",
         "Communications Devices and Accessories",
         "Personal communication devices",
         "Fixed phones"
        ],
        [
         "8",
         "10.43.19.15.05",
         "Communication Services",
         "Information Technology Broadcasting and Telecommunications",
         "Communications Devices and Accessories",
         "Personal communication devices",
         "Answering machines"
        ],
        [
         "9",
         "10.43.19.15.07",
         "Communication Services",
         "Information Technology Broadcasting and Telecommunications",
         "Communications Devices and Accessories",
         "Personal communication devices",
         "Special purpose telephones"
        ],
        [
         "10",
         "10.43.19.15.08",
         "Communication Services",
         "Information Technology Broadcasting and Telecommunications",
         "Communications Devices and Accessories",
         "Personal communication devices",
         "Digital telephones"
        ],
        [
         "11",
         "10.43.19.15.09",
         "Communication Services",
         "Information Technology Broadcasting and Telecommunications",
         "Communications Devices and Accessories",
         "Personal communication devices",
         "Analog telephones"
        ],
        [
         "12",
         "10.43.19.15.10",
         "Communication Services",
         "Information Technology Broadcasting and Telecommunications",
         "Communications Devices and Accessories",
         "Personal communication devices",
         "Two way radios"
        ],
        [
         "13",
         "10.43.19.15.11",
         "Communication Services",
         "Information Technology Broadcasting and Telecommunications",
         "Communications Devices and Accessories",
         "Personal communication devices",
         "IP phones"
        ],
        [
         "14",
         "10.43.19.15.12",
         "Communication Services",
         "Information Technology Broadcasting and Telecommunications",
         "Communications Devices and Accessories",
         "Personal communication devices",
         "Digital enhanced cordless telecommunications DECT cordless phones"
        ],
        [
         "15",
         "10.43.19.15.13",
         "Communication Services",
         "Information Technology Broadcasting and Telecommunications",
         "Communications Devices and Accessories",
         "Personal communication devices",
         "Video phone"
        ],
        [
         "16",
         "10.43.19.15.14",
         "Communication Services",
         "Information Technology Broadcasting and Telecommunications",
         "Communications Devices and Accessories",
         "Personal communication devices",
         "Satellite phone"
        ],
        [
         "17",
         "10.43.19.15.15",
         "Communication Services",
         "Information Technology Broadcasting and Telecommunications",
         "Communications Devices and Accessories",
         "Personal communication devices",
         "Speaker phone"
        ],
        [
         "18",
         "10.43.19.15.16",
         "Communication Services",
         "Information Technology Broadcasting and Telecommunications",
         "Communications Devices and Accessories",
         "Personal communication devices",
         "Keyphone system"
        ],
        [
         "19",
         "10.43.19.15.17",
         "Communication Services",
         "Information Technology Broadcasting and Telecommunications",
         "Communications Devices and Accessories",
         "Personal communication devices",
         "Very High Frequency Radio Set, Desktop"
        ],
        [
         "20",
         "10.43.19.15.18",
         "Communication Services",
         "Information Technology Broadcasting and Telecommunications",
         "Communications Devices and Accessories",
         "Personal communication devices",
         "Very High Frequency Radio Set, Mobile"
        ],
        [
         "21",
         "10.43.19.15.19",
         "Communication Services",
         "Information Technology Broadcasting and Telecommunications",
         "Communications Devices and Accessories",
         "Personal communication devices",
         "Very High Frequency Radio Set, Handheld"
        ],
        [
         "22",
         "10.43.19.15.20",
         "Communication Services",
         "Information Technology Broadcasting and Telecommunications",
         "Communications Devices and Accessories",
         "Personal communication devices",
         "High frequency radio set, desktop"
        ],
        [
         "23",
         "10.43.19.15.21",
         "Communication Services",
         "Information Technology Broadcasting and Telecommunications",
         "Communications Devices and Accessories",
         "Personal communication devices",
         "High frequency radio set, mobile"
        ],
        [
         "24",
         "10.43.19.16",
         "Communication Services",
         "Information Technology Broadcasting and Telecommunications",
         "Communications Devices and Accessories",
         "Personal communications device accessories or parts",
         null
        ],
        [
         "25",
         "10.43.19.16.01",
         "Communication Services",
         "Information Technology Broadcasting and Telecommunications",
         "Communications Devices and Accessories",
         "Personal communications device accessories or parts",
         "Mobile phone face plates"
        ],
        [
         "26",
         "10.43.19.16.02",
         "Communication Services",
         "Information Technology Broadcasting and Telecommunications",
         "Communications Devices and Accessories",
         "Personal communications device accessories or parts",
         "Phone dialers"
        ],
        [
         "27",
         "10.43.19.16.03",
         "Communication Services",
         "Information Technology Broadcasting and Telecommunications",
         "Communications Devices and Accessories",
         "Personal communications device accessories or parts",
         "Phone extension cords"
        ],
        [
         "28",
         "10.43.19.16.04",
         "Communication Services",
         "Information Technology Broadcasting and Telecommunications",
         "Communications Devices and Accessories",
         "Personal communications device accessories or parts",
         "Phone face plates"
        ],
        [
         "29",
         "10.43.19.16.05",
         "Communication Services",
         "Information Technology Broadcasting and Telecommunications",
         "Communications Devices and Accessories",
         "Personal communications device accessories or parts",
         "Phone handset cords"
        ],
        [
         "30",
         "10.43.19.16.06",
         "Communication Services",
         "Information Technology Broadcasting and Telecommunications",
         "Communications Devices and Accessories",
         "Personal communications device accessories or parts",
         "Phone handsets"
        ],
        [
         "31",
         "10.43.19.16.07",
         "Communication Services",
         "Information Technology Broadcasting and Telecommunications",
         "Communications Devices and Accessories",
         "Personal communications device accessories or parts",
         "Phone headset ear or speaker cushions"
        ],
        [
         "32",
         "10.43.19.16.08",
         "Communication Services",
         "Information Technology Broadcasting and Telecommunications",
         "Communications Devices and Accessories",
         "Personal communications device accessories or parts",
         "Phone headset voice tubes"
        ],
        [
         "33",
         "10.43.19.16.09",
         "Communication Services",
         "Information Technology Broadcasting and Telecommunications",
         "Communications Devices and Accessories",
         "Personal communications device accessories or parts",
         "Phone headsets"
        ],
        [
         "34",
         "10.43.19.16.10",
         "Communication Services",
         "Information Technology Broadcasting and Telecommunications",
         "Communications Devices and Accessories",
         "Personal communications device accessories or parts",
         "Personal communication holders or mounts, stands"
        ],
        [
         "35",
         "10.43.19.16.11",
         "Communication Services",
         "Information Technology Broadcasting and Telecommunications",
         "Communications Devices and Accessories",
         "Personal communications device accessories or parts",
         "Phone line protectors"
        ],
        [
         "36",
         "10.43.19.16.12",
         "Communication Services",
         "Information Technology Broadcasting and Telecommunications",
         "Communications Devices and Accessories",
         "Personal communications device accessories or parts",
         "Phone rests"
        ],
        [
         "37",
         "10.43.19.16.14",
         "Communication Services",
         "Information Technology Broadcasting and Telecommunications",
         "Communications Devices and Accessories",
         "Personal communications device accessories or parts",
         "Phone voice converters"
        ],
        [
         "38",
         "10.43.19.16.15",
         "Communication Services",
         "Information Technology Broadcasting and Telecommunications",
         "Communications Devices and Accessories",
         "Personal communications device accessories or parts",
         "Vehicle handsfree phone set"
        ],
        [
         "39",
         "10.43.19.16.16",
         "Communication Services",
         "Information Technology Broadcasting and Telecommunications",
         "Communications Devices and Accessories",
         "Personal communications device accessories or parts",
         "Centrex phone console"
        ],
        [
         "40",
         "10.43.19.16.18",
         "Communication Services",
         "Information Technology Broadcasting and Telecommunications",
         "Communications Devices and Accessories",
         "Personal communications device accessories or parts",
         "Conversation recording units"
        ],
        [
         "41",
         "10.43.19.16.19",
         "Communication Services",
         "Information Technology Broadcasting and Telecommunications",
         "Communications Devices and Accessories",
         "Personal communications device accessories or parts",
         "Telephone signaling devices"
        ],
        [
         "42",
         "10.43.19.16.21",
         "Communication Services",
         "Information Technology Broadcasting and Telecommunications",
         "Communications Devices and Accessories",
         "Personal communications device accessories or parts",
         "Handset adapters"
        ],
        [
         "43",
         "10.43.19.16.22",
         "Communication Services",
         "Information Technology Broadcasting and Telecommunications",
         "Communications Devices and Accessories",
         "Personal communications device accessories or parts",
         "Pager modules or accessories"
        ],
        [
         "44",
         "10.43.19.16.23",
         "Communication Services",
         "Information Technology Broadcasting and Telecommunications",
         "Communications Devices and Accessories",
         "Personal communications device accessories or parts",
         "Pay phone coin mechanisms"
        ],
        [
         "45",
         "10.43.19.16.24",
         "Communication Services",
         "Information Technology Broadcasting and Telecommunications",
         "Communications Devices and Accessories",
         "Personal communications device accessories or parts",
         "Pay phone coin chutes"
        ],
        [
         "46",
         "10.43.19.16.25",
         "Communication Services",
         "Information Technology Broadcasting and Telecommunications",
         "Communications Devices and Accessories",
         "Personal communications device accessories or parts",
         "Pay phone coin boxes"
        ],
        [
         "47",
         "10.43.19.16.26",
         "Communication Services",
         "Information Technology Broadcasting and Telecommunications",
         "Communications Devices and Accessories",
         "Personal communications device accessories or parts",
         "Pay phone hoppers"
        ],
        [
         "48",
         "10.43.19.16.27",
         "Communication Services",
         "Information Technology Broadcasting and Telecommunications",
         "Communications Devices and Accessories",
         "Personal communications device accessories or parts",
         "Pay phone coin box vault doors"
        ],
        [
         "49",
         "10.43.19.16.28",
         "Communication Services",
         "Information Technology Broadcasting and Telecommunications",
         "Communications Devices and Accessories",
         "Personal communications device accessories or parts",
         "Pay phone microphone windscreens"
        ]
       ],
       "shape": {
        "columns": 6,
        "rows": 158474
       }
      },
      "text/html": [
       "<div>\n",
       "<style scoped>\n",
       "    .dataframe tbody tr th:only-of-type {\n",
       "        vertical-align: middle;\n",
       "    }\n",
       "\n",
       "    .dataframe tbody tr th {\n",
       "        vertical-align: top;\n",
       "    }\n",
       "\n",
       "    .dataframe thead th {\n",
       "        text-align: right;\n",
       "    }\n",
       "</style>\n",
       "<table border=\"1\" class=\"dataframe\">\n",
       "  <thead>\n",
       "    <tr style=\"text-align: right;\">\n",
       "      <th></th>\n",
       "      <th>code</th>\n",
       "      <th>tag1</th>\n",
       "      <th>tag2</th>\n",
       "      <th>tag3</th>\n",
       "      <th>tag4</th>\n",
       "      <th>tag5</th>\n",
       "    </tr>\n",
       "  </thead>\n",
       "  <tbody>\n",
       "    <tr>\n",
       "      <th>0</th>\n",
       "      <td>10</td>\n",
       "      <td>Communication Services</td>\n",
       "      <td>NaN</td>\n",
       "      <td>NaN</td>\n",
       "      <td>NaN</td>\n",
       "      <td>NaN</td>\n",
       "    </tr>\n",
       "    <tr>\n",
       "      <th>1</th>\n",
       "      <td>10.43</td>\n",
       "      <td>Communication Services</td>\n",
       "      <td>Information Technology Broadcasting and Teleco...</td>\n",
       "      <td>NaN</td>\n",
       "      <td>NaN</td>\n",
       "      <td>NaN</td>\n",
       "    </tr>\n",
       "    <tr>\n",
       "      <th>2</th>\n",
       "      <td>10.43.19</td>\n",
       "      <td>Communication Services</td>\n",
       "      <td>Information Technology Broadcasting and Teleco...</td>\n",
       "      <td>Communications Devices and Accessories</td>\n",
       "      <td>NaN</td>\n",
       "      <td>NaN</td>\n",
       "    </tr>\n",
       "    <tr>\n",
       "      <th>3</th>\n",
       "      <td>10.43.19.15</td>\n",
       "      <td>Communication Services</td>\n",
       "      <td>Information Technology Broadcasting and Teleco...</td>\n",
       "      <td>Communications Devices and Accessories</td>\n",
       "      <td>Personal communication devices</td>\n",
       "      <td>NaN</td>\n",
       "    </tr>\n",
       "    <tr>\n",
       "      <th>4</th>\n",
       "      <td>10.43.19.15.01</td>\n",
       "      <td>Communication Services</td>\n",
       "      <td>Information Technology Broadcasting and Teleco...</td>\n",
       "      <td>Communications Devices and Accessories</td>\n",
       "      <td>Personal communication devices</td>\n",
       "      <td>Mobile phones</td>\n",
       "    </tr>\n",
       "    <tr>\n",
       "      <th>...</th>\n",
       "      <td>...</td>\n",
       "      <td>...</td>\n",
       "      <td>...</td>\n",
       "      <td>...</td>\n",
       "      <td>...</td>\n",
       "      <td>...</td>\n",
       "    </tr>\n",
       "    <tr>\n",
       "      <th>158469</th>\n",
       "      <td>20.83.12.17.05</td>\n",
       "      <td>Utilities</td>\n",
       "      <td>Public Utilities and Public Sector Related Ser...</td>\n",
       "      <td>Information services</td>\n",
       "      <td>Mass communication services</td>\n",
       "      <td>Social media related services</td>\n",
       "    </tr>\n",
       "    <tr>\n",
       "      <th>158470</th>\n",
       "      <td>20.83.13</td>\n",
       "      <td>Utilities</td>\n",
       "      <td>Public Utilities and Public Sector Related Ser...</td>\n",
       "      <td>Information and communication broadcasting Ser...</td>\n",
       "      <td>NaN</td>\n",
       "      <td>NaN</td>\n",
       "    </tr>\n",
       "    <tr>\n",
       "      <th>158471</th>\n",
       "      <td>20.83.13.01</td>\n",
       "      <td>Utilities</td>\n",
       "      <td>Public Utilities and Public Sector Related Ser...</td>\n",
       "      <td>Information and communication broadcasting Ser...</td>\n",
       "      <td>Communication service</td>\n",
       "      <td>NaN</td>\n",
       "    </tr>\n",
       "    <tr>\n",
       "      <th>158472</th>\n",
       "      <td>20.83.13.01.01</td>\n",
       "      <td>Utilities</td>\n",
       "      <td>Public Utilities and Public Sector Related Ser...</td>\n",
       "      <td>Information and communication broadcasting Ser...</td>\n",
       "      <td>Communication service</td>\n",
       "      <td>Wire communication service</td>\n",
       "    </tr>\n",
       "    <tr>\n",
       "      <th>158473</th>\n",
       "      <td>20.83.13.01.02</td>\n",
       "      <td>Utilities</td>\n",
       "      <td>Public Utilities and Public Sector Related Ser...</td>\n",
       "      <td>Information and communication broadcasting Ser...</td>\n",
       "      <td>Communication service</td>\n",
       "      <td>Wireless communication service</td>\n",
       "    </tr>\n",
       "  </tbody>\n",
       "</table>\n",
       "<p>158474 rows × 6 columns</p>\n",
       "</div>"
      ],
      "text/plain": [
       "                  code                    tag1  \\\n",
       "0                   10  Communication Services   \n",
       "1                10.43  Communication Services   \n",
       "2             10.43.19  Communication Services   \n",
       "3          10.43.19.15  Communication Services   \n",
       "4       10.43.19.15.01  Communication Services   \n",
       "...                ...                     ...   \n",
       "158469  20.83.12.17.05               Utilities   \n",
       "158470        20.83.13               Utilities   \n",
       "158471     20.83.13.01               Utilities   \n",
       "158472  20.83.13.01.01               Utilities   \n",
       "158473  20.83.13.01.02               Utilities   \n",
       "\n",
       "                                                     tag2  \\\n",
       "0                                                     NaN   \n",
       "1       Information Technology Broadcasting and Teleco...   \n",
       "2       Information Technology Broadcasting and Teleco...   \n",
       "3       Information Technology Broadcasting and Teleco...   \n",
       "4       Information Technology Broadcasting and Teleco...   \n",
       "...                                                   ...   \n",
       "158469  Public Utilities and Public Sector Related Ser...   \n",
       "158470  Public Utilities and Public Sector Related Ser...   \n",
       "158471  Public Utilities and Public Sector Related Ser...   \n",
       "158472  Public Utilities and Public Sector Related Ser...   \n",
       "158473  Public Utilities and Public Sector Related Ser...   \n",
       "\n",
       "                                                     tag3  \\\n",
       "0                                                     NaN   \n",
       "1                                                     NaN   \n",
       "2                  Communications Devices and Accessories   \n",
       "3                  Communications Devices and Accessories   \n",
       "4                  Communications Devices and Accessories   \n",
       "...                                                   ...   \n",
       "158469                               Information services   \n",
       "158470  Information and communication broadcasting Ser...   \n",
       "158471  Information and communication broadcasting Ser...   \n",
       "158472  Information and communication broadcasting Ser...   \n",
       "158473  Information and communication broadcasting Ser...   \n",
       "\n",
       "                                  tag4                            tag5  \n",
       "0                                  NaN                             NaN  \n",
       "1                                  NaN                             NaN  \n",
       "2                                  NaN                             NaN  \n",
       "3       Personal communication devices                             NaN  \n",
       "4       Personal communication devices                   Mobile phones  \n",
       "...                                ...                             ...  \n",
       "158469     Mass communication services   Social media related services  \n",
       "158470                             NaN                             NaN  \n",
       "158471           Communication service                             NaN  \n",
       "158472           Communication service      Wire communication service  \n",
       "158473           Communication service  Wireless communication service  \n",
       "\n",
       "[158474 rows x 6 columns]"
      ]
     },
     "execution_count": 15,
     "metadata": {},
     "output_type": "execute_result"
    }
   ],
   "source": [
    "unspsc"
   ]
  },
  {
   "cell_type": "code",
   "execution_count": 16,
   "id": "82545b5b",
   "metadata": {
    "vscode": {
     "languageId": "javascript"
    }
   },
   "outputs": [],
   "source": [
    "unspsc.to_csv('./dados/tags/unspsc+.csv', index=False)"
   ]
  }
 ],
 "metadata": {
  "kernelspec": {
   "display_name": ".venv (3.13.5)",
   "language": "python",
   "name": "python3"
  },
  "language_info": {
   "codemirror_mode": {
    "name": "ipython",
    "version": 3
   },
   "file_extension": ".py",
   "mimetype": "text/x-python",
   "name": "python",
   "nbconvert_exporter": "python",
   "pygments_lexer": "ipython3",
   "version": "3.13.5"
  }
 },
 "nbformat": 4,
 "nbformat_minor": 5
}
