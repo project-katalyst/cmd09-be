{
 "cells": [
  {
   "cell_type": "code",
   "execution_count": 36,
   "id": "08ca178b",
   "metadata": {},
   "outputs": [],
   "source": [
    "import requests\n",
    "import pandas as pd"
   ]
  },
  {
   "cell_type": "code",
   "execution_count": 37,
   "id": "f6ded9e6",
   "metadata": {},
   "outputs": [],
   "source": [
    "tags = requests.post('http://localhost:8000/tags', json={\"url\": \"https://randon.com.br/\"}).json()"
   ]
  },
  {
   "cell_type": "code",
   "execution_count": 45,
   "id": "03dbd194",
   "metadata": {},
   "outputs": [
    {
     "data": {
      "text/plain": [
       "{'summary': 'Randon is a leading manufacturer of trailers and semi-trailers in Latin America and ranks among the top ten globally. Established in 1949, the company has delivered over 600,000 units to Brazil and more than 70 countries. Headquartered in Caxias do Sul, Brazil, Randon operates multiple production facilities across Brazil and has a significant international distribution network. \\n\\nMain Products/Services Offered:  \\nHeavy Line Trailers: Includes various types of trailers such as grain, dump, tank, and general cargo trailers.  \\nChassis Line: Specialized trailers designed for specific applications.  \\nRailway Wagons: Manufacturing of different types of railway wagons for cargo transport.  \\nReplacement Parts: Genuine and original parts to ensure the performance and safety of Randon products.  \\nInnovative Technologies:  \\n   - Randon Solar: Solar energy solutions for sustainable operations.  \\n   - Randon Smart: Fleet management technology for monitoring and controlling trailer functionalities.  \\n   - Randon Hybrid R: A hybrid system that enhances fuel efficiency and reduces emissions.  \\n   - Ecoplate and Duratech: Advanced materials and coatings for durability and sustainability.  \\n\\nRandon is committed to innovation, sustainability, and customer satisfaction, making it a recognized player in the global transportation solutions market.',\n",
       " 'tags': {'tag1': ['Industrials',\n",
       "   'Industrials',\n",
       "   'Industrials',\n",
       "   'Industrials',\n",
       "   'Industrials',\n",
       "   'Industrials',\n",
       "   'Industrials',\n",
       "   'Industrials',\n",
       "   'Industrials'],\n",
       "  'tag2': ['Building and Construction Machinery and Accessories',\n",
       "   'Building and Construction Machinery and Accessories',\n",
       "   'Building and Construction Machinery and Accessories',\n",
       "   'Manufacturing Components and Supplies',\n",
       "   'Manufacturing Components and Supplies',\n",
       "   'Manufacturing Components and Supplies',\n",
       "   'Transportation and Storage and Mail Services',\n",
       "   'Transportation and Storage and Mail Services',\n",
       "   'Transportation and Storage and Mail Services'],\n",
       "  'tag3': ['Heavy construction machinery and equipment',\n",
       "   'Heavy construction machinery and equipment',\n",
       "   'Heavy construction machinery and equipment',\n",
       "   'Fabricated pipe assemblies',\n",
       "   'Fabricated structural assemblies',\n",
       "   'Machined raw stock',\n",
       "   'Transport services',\n",
       "   'Transport services',\n",
       "   'Transport services'],\n",
       "  'tag4': ['Building construction machinery and accessories',\n",
       "   'Heavy equipment components',\n",
       "   'Heavy equipment components',\n",
       "   '',\n",
       "   '',\n",
       "   '',\n",
       "   'Logistics operation management',\n",
       "   'Transport container rental services',\n",
       "   'Transport container rental services'],\n",
       "  'tag5': ['',\n",
       "   'Track links or track shoes or its parts',\n",
       "   'Construction machinery conversion kits',\n",
       "   '',\n",
       "   '',\n",
       "   '',\n",
       "   'Claim management',\n",
       "   'Intermodal cargo container rental service',\n",
       "   'Storage basket rental service']}}"
      ]
     },
     "execution_count": 45,
     "metadata": {},
     "output_type": "execute_result"
    }
   ],
   "source": [
    "tags"
   ]
  },
  {
   "cell_type": "code",
   "execution_count": 38,
   "id": "50e2510e",
   "metadata": {},
   "outputs": [],
   "source": [
    "tags_df = pd.DataFrame(tags['tags'])"
   ]
  },
  {
   "cell_type": "code",
   "execution_count": 46,
   "id": "d3112e8d",
   "metadata": {},
   "outputs": [],
   "source": [
    "tags_df = tags_df.iloc[1:]"
   ]
  },
  {
   "cell_type": "code",
   "execution_count": 40,
   "id": "cfb99bd4",
   "metadata": {},
   "outputs": [],
   "source": [
    "res = requests.post('http://localhost:8000/scores', json={\"tags\": tags_df.to_dict(orient='list'), \"ebitda\": 1_950_000_000}).json()"
   ]
  },
  {
   "cell_type": "code",
   "execution_count": 43,
   "id": "fcd567bb",
   "metadata": {},
   "outputs": [
    {
     "data": {
      "application/vnd.microsoft.datawrangler.viewer.v0+json": {
       "columns": [
        {
         "name": "index",
         "rawType": "int64",
         "type": "integer"
        },
        {
         "name": "Data do EBITDA",
         "rawType": "object",
         "type": "string"
        },
        {
         "name": "EBITDA",
         "rawType": "float64",
         "type": "float"
        },
        {
         "name": "Nome",
         "rawType": "object",
         "type": "string"
        },
        {
         "name": "Resumo",
         "rawType": "object",
         "type": "string"
        },
        {
         "name": "Score",
         "rawType": "float64",
         "type": "float"
        },
        {
         "name": "Site",
         "rawType": "object",
         "type": "string"
        }
       ],
       "ref": "dff763ad-c391-48ca-9681-f5e551cd46e7",
       "rows": [
        [
         "0",
         "1T2025 (TTM)",
         "5704000000.0",
         "Ultrapar",
         "ugpa3",
         "37.0",
         "Grupo Ultra, through its holding Ultrapar Participações S.A., is a Brazilian conglomerate with over 85 years of history, active mainly in the energy, mobility, and logistics infrastructure sectors. Its main business units include Ipiranga, specializing in fuel distribution, convenience stores, and automotive services; Ultragaz, a leader in bottled liquefied petroleum gas (GLP) distribution and energy solutions; Ultracargo, the country's largest independent liquid bulk storage company with integrated logistics solutions; and Hidrovias do Brasil, focused on efficient and low-carbon integrated waterway transportation, terminal operations, cabotage, and logistics services primarily supporting the agribusiness sector. Grupo Ultra offers products and services such as fuel retail, gas distribution, chemical products (historically), logistics for granulated liquid storage, and waterway transportation. The group is committed to innovation, scalability, security, and sustainability, holding a strong emphasis on governance and integrity. It also invests in people development, partnerships in education, and ESG initiatives."
        ],
        [
         "1",
         "1T2025 (TTM)",
         "3278000000.0",
         "Sanepar",
         "sapr4",
         "7.0",
         "Sanepar, Companhia de Saneamento do Paraná, is a Brazilian company specializing in public water supply, sewage collection and treatment, and solid waste management. It provides treated water to residential, commercial, and industrial customers, collects and treats sewage including sludge disposal, and manages organic waste. The company emphasizes sustainability, social responsibility, transparency, and innovation in its operations. Services include new water and sewage connections, maintenance, digital account management, and dedicated customer support. Sanepar serves municipalities, large clients (industries, condominiums, commerce), and public authorities, aiming to achieve universal coverage of water and sewage services in Paraná state. Additionally, it promotes environmental education, diversity and inclusion, data privacy, and partnerships for technological development. The company offers digital platforms to facilitate customer interaction and payment, and actively invests in infrastructure projects to enhance service quality and environmental protection."
        ]
       ],
       "shape": {
        "columns": 6,
        "rows": 2
       }
      },
      "text/html": [
       "<div>\n",
       "<style scoped>\n",
       "    .dataframe tbody tr th:only-of-type {\n",
       "        vertical-align: middle;\n",
       "    }\n",
       "\n",
       "    .dataframe tbody tr th {\n",
       "        vertical-align: top;\n",
       "    }\n",
       "\n",
       "    .dataframe thead th {\n",
       "        text-align: right;\n",
       "    }\n",
       "</style>\n",
       "<table border=\"1\" class=\"dataframe\">\n",
       "  <thead>\n",
       "    <tr style=\"text-align: right;\">\n",
       "      <th></th>\n",
       "      <th>Data do EBITDA</th>\n",
       "      <th>EBITDA</th>\n",
       "      <th>Nome</th>\n",
       "      <th>Resumo</th>\n",
       "      <th>Score</th>\n",
       "      <th>Site</th>\n",
       "    </tr>\n",
       "  </thead>\n",
       "  <tbody>\n",
       "    <tr>\n",
       "      <th>0</th>\n",
       "      <td>1T2025 (TTM)</td>\n",
       "      <td>5.704000e+09</td>\n",
       "      <td>Ultrapar</td>\n",
       "      <td>ugpa3</td>\n",
       "      <td>37.0</td>\n",
       "      <td>Grupo Ultra, through its holding Ultrapar Part...</td>\n",
       "    </tr>\n",
       "    <tr>\n",
       "      <th>1</th>\n",
       "      <td>1T2025 (TTM)</td>\n",
       "      <td>3.278000e+09</td>\n",
       "      <td>Sanepar</td>\n",
       "      <td>sapr4</td>\n",
       "      <td>7.0</td>\n",
       "      <td>Sanepar, Companhia de Saneamento do Paraná, is...</td>\n",
       "    </tr>\n",
       "  </tbody>\n",
       "</table>\n",
       "</div>"
      ],
      "text/plain": [
       "  Data do EBITDA        EBITDA      Nome Resumo  Score  \\\n",
       "0   1T2025 (TTM)  5.704000e+09  Ultrapar  ugpa3   37.0   \n",
       "1   1T2025 (TTM)  3.278000e+09   Sanepar  sapr4    7.0   \n",
       "\n",
       "                                                Site  \n",
       "0  Grupo Ultra, through its holding Ultrapar Part...  \n",
       "1  Sanepar, Companhia de Saneamento do Paraná, is...  "
      ]
     },
     "execution_count": 43,
     "metadata": {},
     "output_type": "execute_result"
    }
   ],
   "source": [
    "pd.DataFrame(res['Scores']).sort_values(by='Score', ascending=False).reset_index(drop=True)"
   ]
  },
  {
   "cell_type": "code",
   "execution_count": 44,
   "id": "f9cc4ae9",
   "metadata": {},
   "outputs": [
    {
     "name": "stdout",
     "output_type": "stream",
     "text": [
      "Será um deal de aproximadamente R$ 13084.50 milhões\n"
     ]
    }
   ],
   "source": [
    "print('Será um deal de aproximadamente R$ {:.2f} milhões'.format(res['Deal Size'] / 1e6))"
   ]
  }
 ],
 "metadata": {
  "kernelspec": {
   "display_name": ".venv (3.13.7)",
   "language": "python",
   "name": "python3"
  },
  "language_info": {
   "codemirror_mode": {
    "name": "ipython",
    "version": 3
   },
   "file_extension": ".py",
   "mimetype": "text/x-python",
   "name": "python",
   "nbconvert_exporter": "python",
   "pygments_lexer": "ipython3",
   "version": "3.13.7"
  }
 },
 "nbformat": 4,
 "nbformat_minor": 5
}
